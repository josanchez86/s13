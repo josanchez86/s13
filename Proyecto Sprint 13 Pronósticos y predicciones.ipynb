{
 "cells": [
  {
   "cell_type": "markdown",
   "metadata": {},
   "source": [
    "# Descripción del proyecto\n",
    "\n",
    "La cadena de gimnasios Model Fitness está desarrollando una estrategia de interacción con clientes basada en datos analíticos.\n",
    "\n",
    "Uno de los problemas más comunes que enfrentan los gimnasios y otros servicios es la pérdida de clientes. ¿Cómo descubres si un/a cliente ya no está contigo? Puedes calcular la pérdida en función de las personas que se deshacen de sus cuentas o no renuevan sus contratos. Sin embargo, a veces no es obvio que un/a cliente se haya ido: puede que se vaya de puntillas.\n",
    "\n",
    "Los indicadores de pérdida varían de un campo a otro. Si un usuario o una usuaria compra en una tienda en línea con poca frecuencia, pero con regularidad, no se puede decir que ha huido. Pero si durante dos semanas no ha abierto un canal que se actualiza a diario, es motivo de preocupación: es posible que tu seguidor o seguidor/a se haya aburrido y te haya abandonado.\n",
    "\n",
    "En el caso de un gimnasio, tiene sentido decir que un/a cliente se ha ido si no viene durante un mes. Por supuesto, es posible que estén en Cancún y retomen sus visitas cuando regresen, pero ese no es un caso típico. Por lo general, si un/a cliente se une, viene varias veces y luego desaparece, es poco probable que regrese.\n",
    "\n",
    "Con el fin de combatir la cancelación, Model Fitness ha digitalizado varios de sus perfiles de clientes. Tu tarea consiste en analizarlos y elaborar una estrategia de retención de clientes.\n",
    "\n",
    "Tienes que:\n",
    "\n",
    "* Aprender a predecir la probabilidad de pérdida (para el próximo mes) para cada cliente.\n",
    "* Elaborar retratos de usuarios típicos: selecciona los grupos más destacados y describe sus características principales.\n",
    "* Analizar los factores que más impactan la pérdida.\n",
    "* Sacar conclusiones básicas y elaborar recomendaciones para mejorar la atención al cliente:\n",
    "    * Identificar a los grupos objetivo;\n",
    "    * Sugerir medidas para reducir la rotación;\n",
    "    * Describir cualquier otro patrón que observes con respecto a la interacción con los clientes."
   ]
  },
  {
   "cell_type": "markdown",
   "metadata": {},
   "source": [
    "# Importar librerías:"
   ]
  },
  {
   "cell_type": "code",
   "execution_count": 1,
   "metadata": {},
   "outputs": [],
   "source": [
    "# Se cargan todas las librerías que se puedan usar:\n",
    "import pandas as pd\n",
    "import numpy as np\n",
    "from scipy.spatial.distance import mahalanobis\n",
    "from scipy.stats import chi2\n",
    "from scipy.stats import chi2_contingency\n",
    "import matplotlib.pyplot as plt\n",
    "import seaborn as sns\n",
    "\n",
    "from sklearn.preprocessing import StandardScaler\n",
    "from sklearn.model_selection import train_test_split\n",
    "from sklearn.model_selection import GridSearchCV\n",
    "from sklearn.linear_model import LogisticRegression\n",
    "from sklearn.ensemble import RandomForestClassifier\n",
    "from sklearn.cluster import KMeans\n",
    "\n",
    "from sklearn.metrics import accuracy_score, precision_score, recall_score, f1_score\n",
    "from sklearn.metrics import roc_auc_score\n",
    "from sklearn.metrics import davies_bouldin_score\n",
    "from sklearn.metrics import mean_absolute_error, mean_squared_error, r2_score\n",
    "\n",
    "from scipy.spatial.distance import pdist\n",
    "from scipy.cluster.hierarchy import linkage\n",
    "from scipy.cluster.hierarchy import dendrogram"
   ]
  },
  {
   "cell_type": "markdown",
   "metadata": {},
   "source": [
    "# Paso 1: cargar el archivo con los datos:"
   ]
  },
  {
   "cell_type": "markdown",
   "metadata": {},
   "source": [
    "Model Fitness te aportó archivos CSV que contienen los datos sobre la cancelación de un mes en concreto e información del mes que lo precedía. El dataset incluye los siguientes campos:\n",
    "\n",
    "* 'Churn' — la cancelación para el mes en cuestión\n",
    "\n",
    "Campos de dataset actuales:\n",
    "Datos del usuario del mes anterior\n",
    "\n",
    "* 'gender'.\n",
    "\n",
    "* 'Near_Location' — si el/la usuario/a vive o trabaja en el vecindario donde se encuentra el gimnasio.\n",
    "\n",
    "* 'Partner' — si el/la usuario/a trabaja en una compañía asociada (el gimnasio tiene empresas asociadas cuyos empleados obtienen descuentos; en esos casos el gimnasio almacena información sobre los empleadores de los clientes).\n",
    "\n",
    "* Promo_friends — si el/la usuario/a originalmente se inscribió mediante una oferta “trae a un/a amigo/a” (se utilizó el código promocional de un/a amigo/a cuando pagaron el primer abono).\n",
    "\n",
    "* 'Phone' — si el/la usuario/a aportó el número de teléfono.\n",
    "\n",
    "* 'Age'.\n",
    "\n",
    "* 'Lifetime' — el tiempo (en meses) desde que el/la usuario/a llegó por primera vez al gimnasio.\n",
    "\n",
    "Datos del registro de visitas y compras y datos sobre el estado actual de la membresía:\n",
    "\n",
    "* 'Contract_period' — 1 mes, 3 meses, 6 meses o 1 año.\n",
    "\n",
    "* 'Month_to_end_contract' — los meses que faltan hasta que expire el contrato.\n",
    "\n",
    "* 'Group_visits' — si el/la usuario/a participa en sesiones grupales.\n",
    "\n",
    "* 'Avg_class_frequency_total' — frecuencia media de visitas por semana a lo largo de la vida del cliente.\n",
    "\n",
    "* 'Avg_class_frequency_current_month' — frecuencia media de visitas por semana durante el mes en curso.\n",
    "\n",
    "* 'Avg_additional_charges_total' — cantidad total de dinero gastado en otros servicios del gimnasio: cafetería, productos deportivos, cosméticos, masajes, etc."
   ]
  },
  {
   "cell_type": "code",
   "execution_count": 2,
   "metadata": {},
   "outputs": [],
   "source": [
    "# Se cargan los datos y se almacenan en la variable df:\n",
    "df = pd.read_csv('/datasets/gym_churn_us.csv')"
   ]
  },
  {
   "cell_type": "markdown",
   "metadata": {},
   "source": [
    "# Paso 2: Análisis exploratorio de datos (EDA)"
   ]
  },
  {
   "cell_type": "markdown",
   "metadata": {},
   "source": [
    "## Información general de los datos:"
   ]
  },
  {
   "cell_type": "code",
   "execution_count": 3,
   "metadata": {},
   "outputs": [
    {
     "name": "stdout",
     "output_type": "stream",
     "text": [
      "Información general de la base de datos:\n",
      "\n",
      "<class 'pandas.core.frame.DataFrame'>\n",
      "RangeIndex: 4000 entries, 0 to 3999\n",
      "Data columns (total 14 columns):\n",
      " #   Column                             Non-Null Count  Dtype  \n",
      "---  ------                             --------------  -----  \n",
      " 0   gender                             4000 non-null   int64  \n",
      " 1   Near_Location                      4000 non-null   int64  \n",
      " 2   Partner                            4000 non-null   int64  \n",
      " 3   Promo_friends                      4000 non-null   int64  \n",
      " 4   Phone                              4000 non-null   int64  \n",
      " 5   Contract_period                    4000 non-null   int64  \n",
      " 6   Group_visits                       4000 non-null   int64  \n",
      " 7   Age                                4000 non-null   int64  \n",
      " 8   Avg_additional_charges_total       4000 non-null   float64\n",
      " 9   Month_to_end_contract              4000 non-null   float64\n",
      " 10  Lifetime                           4000 non-null   int64  \n",
      " 11  Avg_class_frequency_total          4000 non-null   float64\n",
      " 12  Avg_class_frequency_current_month  4000 non-null   float64\n",
      " 13  Churn                              4000 non-null   int64  \n",
      "dtypes: float64(4), int64(10)\n",
      "memory usage: 437.6 KB\n"
     ]
    }
   ],
   "source": [
    "print('Información general de la base de datos:\\n')\n",
    "df.info()"
   ]
  },
  {
   "cell_type": "markdown",
   "metadata": {},
   "source": [
    "**Conclusión:**\n",
    "\n",
    "* Se tiene un total de 4000 registros con 14 columnas.\n",
    "\n",
    "* Hay algunas columnas cuyos nombres tienen mayúsculas.\n",
    "\n",
    "* Según el info no hay valores ausentes.\n",
    "\n",
    "* Se observa que el tipo de datos de cada columna es el correcto."
   ]
  },
  {
   "cell_type": "markdown",
   "metadata": {},
   "source": [
    "## Corregir nombres de la clolumnas:"
   ]
  },
  {
   "cell_type": "code",
   "execution_count": 4,
   "metadata": {},
   "outputs": [
    {
     "name": "stdout",
     "output_type": "stream",
     "text": [
      "Los nuevos nombres de las columnas quedan registrados de la siguiente forma:\n",
      "\n",
      "<class 'pandas.core.frame.DataFrame'>\n",
      "RangeIndex: 4000 entries, 0 to 3999\n",
      "Data columns (total 14 columns):\n",
      " #   Column                             Non-Null Count  Dtype  \n",
      "---  ------                             --------------  -----  \n",
      " 0   gender                             4000 non-null   int64  \n",
      " 1   near_location                      4000 non-null   int64  \n",
      " 2   partner                            4000 non-null   int64  \n",
      " 3   promo_friends                      4000 non-null   int64  \n",
      " 4   phone                              4000 non-null   int64  \n",
      " 5   contract_period                    4000 non-null   int64  \n",
      " 6   group_visits                       4000 non-null   int64  \n",
      " 7   age                                4000 non-null   int64  \n",
      " 8   avg_additional_charges_total       4000 non-null   float64\n",
      " 9   month_to_end_contract              4000 non-null   float64\n",
      " 10  lifetime                           4000 non-null   int64  \n",
      " 11  avg_class_frequency_total          4000 non-null   float64\n",
      " 12  avg_class_frequency_current_month  4000 non-null   float64\n",
      " 13  churn                              4000 non-null   int64  \n",
      "dtypes: float64(4), int64(10)\n",
      "memory usage: 437.6 KB\n"
     ]
    }
   ],
   "source": [
    "# Se cambian a minúsculas los nombres de todas las columnas:\n",
    "df.columns = df.columns.str.lower()\n",
    "\n",
    "# Se verifica que se hayan cambiado a minúsculas debidamente los nombres de las columnas:\n",
    "print('Los nuevos nombres de las columnas quedan registrados de la siguiente forma:\\n')\n",
    "df.info()"
   ]
  },
  {
   "cell_type": "markdown",
   "metadata": {},
   "source": [
    "**Conclusión:**\n",
    "\n",
    "* Se han cambiado a minúsculas los nombres de todas las columnas.\n",
    "\n",
    "* Se ha comprobado que efectivamente los nombres de las columnas están en minúsculas."
   ]
  },
  {
   "cell_type": "markdown",
   "metadata": {},
   "source": [
    "## Determinar la presencia de valores ausentes:"
   ]
  },
  {
   "cell_type": "code",
   "execution_count": 5,
   "metadata": {},
   "outputs": [
    {
     "name": "stdout",
     "output_type": "stream",
     "text": [
      "La cantidad de valores ausentes por columna es:\n",
      "\n"
     ]
    },
    {
     "data": {
      "text/plain": [
       "gender                               0\n",
       "near_location                        0\n",
       "partner                              0\n",
       "promo_friends                        0\n",
       "phone                                0\n",
       "contract_period                      0\n",
       "group_visits                         0\n",
       "age                                  0\n",
       "avg_additional_charges_total         0\n",
       "month_to_end_contract                0\n",
       "lifetime                             0\n",
       "avg_class_frequency_total            0\n",
       "avg_class_frequency_current_month    0\n",
       "churn                                0\n",
       "dtype: int64"
      ]
     },
     "execution_count": 5,
     "metadata": {},
     "output_type": "execute_result"
    }
   ],
   "source": [
    "# Se cuenta la cantidad de valores ausentes para prevenir que hayan ocurrido fallas en el método info:\n",
    "print('La cantidad de valores ausentes por columna es:\\n')\n",
    "df.isna().sum()"
   ]
  },
  {
   "cell_type": "markdown",
   "metadata": {},
   "source": [
    "**Conclusión:** Se ha comprobado que no hay valores ausentes en las columnas."
   ]
  },
  {
   "cell_type": "markdown",
   "metadata": {},
   "source": [
    "## Determinar la presencia de filas duplicadas:"
   ]
  },
  {
   "cell_type": "code",
   "execution_count": 6,
   "metadata": {},
   "outputs": [
    {
     "name": "stdout",
     "output_type": "stream",
     "text": [
      "La cantidad de filas totalmente duplicadas es: 0 .\n"
     ]
    }
   ],
   "source": [
    "# Se cuenta la cantidad de filas totalmente duplicadas.\n",
    "print('La cantidad de filas totalmente duplicadas es:', df.duplicated().sum(),'.')"
   ]
  },
  {
   "cell_type": "code",
   "execution_count": 7,
   "metadata": {},
   "outputs": [
    {
     "name": "stdout",
     "output_type": "stream",
     "text": [
      "Filas totalmente duplicadas:\n",
      "\n"
     ]
    },
    {
     "data": {
      "text/html": [
       "<div>\n",
       "<style scoped>\n",
       "    .dataframe tbody tr th:only-of-type {\n",
       "        vertical-align: middle;\n",
       "    }\n",
       "\n",
       "    .dataframe tbody tr th {\n",
       "        vertical-align: top;\n",
       "    }\n",
       "\n",
       "    .dataframe thead th {\n",
       "        text-align: right;\n",
       "    }\n",
       "</style>\n",
       "<table border=\"1\" class=\"dataframe\">\n",
       "  <thead>\n",
       "    <tr style=\"text-align: right;\">\n",
       "      <th></th>\n",
       "      <th>gender</th>\n",
       "      <th>near_location</th>\n",
       "      <th>partner</th>\n",
       "      <th>promo_friends</th>\n",
       "      <th>phone</th>\n",
       "      <th>contract_period</th>\n",
       "      <th>group_visits</th>\n",
       "      <th>age</th>\n",
       "      <th>avg_additional_charges_total</th>\n",
       "      <th>month_to_end_contract</th>\n",
       "      <th>lifetime</th>\n",
       "      <th>avg_class_frequency_total</th>\n",
       "      <th>avg_class_frequency_current_month</th>\n",
       "      <th>churn</th>\n",
       "    </tr>\n",
       "  </thead>\n",
       "  <tbody>\n",
       "  </tbody>\n",
       "</table>\n",
       "</div>"
      ],
      "text/plain": [
       "Empty DataFrame\n",
       "Columns: [gender, near_location, partner, promo_friends, phone, contract_period, group_visits, age, avg_additional_charges_total, month_to_end_contract, lifetime, avg_class_frequency_total, avg_class_frequency_current_month, churn]\n",
       "Index: []"
      ]
     },
     "execution_count": 7,
     "metadata": {},
     "output_type": "execute_result"
    }
   ],
   "source": [
    "# Se muestran las filas totalmente duplicadas:\n",
    "print('Filas totalmente duplicadas:\\n')\n",
    "df[df.duplicated()]"
   ]
  },
  {
   "cell_type": "markdown",
   "metadata": {},
   "source": [
    "**Conclusión:** Se comprobó que no existen filas totalmente duplicadas."
   ]
  },
  {
   "cell_type": "markdown",
   "metadata": {},
   "source": [
    "## Análisis descriptivo de los datos:"
   ]
  },
  {
   "cell_type": "code",
   "execution_count": 8,
   "metadata": {},
   "outputs": [
    {
     "data": {
      "text/html": [
       "<div>\n",
       "<style scoped>\n",
       "    .dataframe tbody tr th:only-of-type {\n",
       "        vertical-align: middle;\n",
       "    }\n",
       "\n",
       "    .dataframe tbody tr th {\n",
       "        vertical-align: top;\n",
       "    }\n",
       "\n",
       "    .dataframe thead th {\n",
       "        text-align: right;\n",
       "    }\n",
       "</style>\n",
       "<table border=\"1\" class=\"dataframe\">\n",
       "  <thead>\n",
       "    <tr style=\"text-align: right;\">\n",
       "      <th></th>\n",
       "      <th>gender</th>\n",
       "      <th>near_location</th>\n",
       "      <th>partner</th>\n",
       "      <th>promo_friends</th>\n",
       "      <th>phone</th>\n",
       "      <th>contract_period</th>\n",
       "      <th>group_visits</th>\n",
       "      <th>age</th>\n",
       "      <th>avg_additional_charges_total</th>\n",
       "      <th>month_to_end_contract</th>\n",
       "      <th>lifetime</th>\n",
       "      <th>avg_class_frequency_total</th>\n",
       "      <th>avg_class_frequency_current_month</th>\n",
       "      <th>churn</th>\n",
       "    </tr>\n",
       "  </thead>\n",
       "  <tbody>\n",
       "    <tr>\n",
       "      <th>count</th>\n",
       "      <td>4000.000000</td>\n",
       "      <td>4000.000000</td>\n",
       "      <td>4000.000000</td>\n",
       "      <td>4000.000000</td>\n",
       "      <td>4000.000000</td>\n",
       "      <td>4000.000000</td>\n",
       "      <td>4000.000000</td>\n",
       "      <td>4000.000000</td>\n",
       "      <td>4000.000000</td>\n",
       "      <td>4000.000000</td>\n",
       "      <td>4000.000000</td>\n",
       "      <td>4000.000000</td>\n",
       "      <td>4000.000000</td>\n",
       "      <td>4000.000000</td>\n",
       "    </tr>\n",
       "    <tr>\n",
       "      <th>mean</th>\n",
       "      <td>0.510250</td>\n",
       "      <td>0.845250</td>\n",
       "      <td>0.486750</td>\n",
       "      <td>0.308500</td>\n",
       "      <td>0.903500</td>\n",
       "      <td>4.681250</td>\n",
       "      <td>0.412250</td>\n",
       "      <td>29.184250</td>\n",
       "      <td>146.943728</td>\n",
       "      <td>4.322750</td>\n",
       "      <td>3.724750</td>\n",
       "      <td>1.879020</td>\n",
       "      <td>1.767052</td>\n",
       "      <td>0.265250</td>\n",
       "    </tr>\n",
       "    <tr>\n",
       "      <th>std</th>\n",
       "      <td>0.499957</td>\n",
       "      <td>0.361711</td>\n",
       "      <td>0.499887</td>\n",
       "      <td>0.461932</td>\n",
       "      <td>0.295313</td>\n",
       "      <td>4.549706</td>\n",
       "      <td>0.492301</td>\n",
       "      <td>3.258367</td>\n",
       "      <td>96.355602</td>\n",
       "      <td>4.191297</td>\n",
       "      <td>3.749267</td>\n",
       "      <td>0.972245</td>\n",
       "      <td>1.052906</td>\n",
       "      <td>0.441521</td>\n",
       "    </tr>\n",
       "    <tr>\n",
       "      <th>min</th>\n",
       "      <td>0.000000</td>\n",
       "      <td>0.000000</td>\n",
       "      <td>0.000000</td>\n",
       "      <td>0.000000</td>\n",
       "      <td>0.000000</td>\n",
       "      <td>1.000000</td>\n",
       "      <td>0.000000</td>\n",
       "      <td>18.000000</td>\n",
       "      <td>0.148205</td>\n",
       "      <td>1.000000</td>\n",
       "      <td>0.000000</td>\n",
       "      <td>0.000000</td>\n",
       "      <td>0.000000</td>\n",
       "      <td>0.000000</td>\n",
       "    </tr>\n",
       "    <tr>\n",
       "      <th>25%</th>\n",
       "      <td>0.000000</td>\n",
       "      <td>1.000000</td>\n",
       "      <td>0.000000</td>\n",
       "      <td>0.000000</td>\n",
       "      <td>1.000000</td>\n",
       "      <td>1.000000</td>\n",
       "      <td>0.000000</td>\n",
       "      <td>27.000000</td>\n",
       "      <td>68.868830</td>\n",
       "      <td>1.000000</td>\n",
       "      <td>1.000000</td>\n",
       "      <td>1.180875</td>\n",
       "      <td>0.963003</td>\n",
       "      <td>0.000000</td>\n",
       "    </tr>\n",
       "    <tr>\n",
       "      <th>50%</th>\n",
       "      <td>1.000000</td>\n",
       "      <td>1.000000</td>\n",
       "      <td>0.000000</td>\n",
       "      <td>0.000000</td>\n",
       "      <td>1.000000</td>\n",
       "      <td>1.000000</td>\n",
       "      <td>0.000000</td>\n",
       "      <td>29.000000</td>\n",
       "      <td>136.220159</td>\n",
       "      <td>1.000000</td>\n",
       "      <td>3.000000</td>\n",
       "      <td>1.832768</td>\n",
       "      <td>1.719574</td>\n",
       "      <td>0.000000</td>\n",
       "    </tr>\n",
       "    <tr>\n",
       "      <th>75%</th>\n",
       "      <td>1.000000</td>\n",
       "      <td>1.000000</td>\n",
       "      <td>1.000000</td>\n",
       "      <td>1.000000</td>\n",
       "      <td>1.000000</td>\n",
       "      <td>6.000000</td>\n",
       "      <td>1.000000</td>\n",
       "      <td>31.000000</td>\n",
       "      <td>210.949625</td>\n",
       "      <td>6.000000</td>\n",
       "      <td>5.000000</td>\n",
       "      <td>2.536078</td>\n",
       "      <td>2.510336</td>\n",
       "      <td>1.000000</td>\n",
       "    </tr>\n",
       "    <tr>\n",
       "      <th>max</th>\n",
       "      <td>1.000000</td>\n",
       "      <td>1.000000</td>\n",
       "      <td>1.000000</td>\n",
       "      <td>1.000000</td>\n",
       "      <td>1.000000</td>\n",
       "      <td>12.000000</td>\n",
       "      <td>1.000000</td>\n",
       "      <td>41.000000</td>\n",
       "      <td>552.590740</td>\n",
       "      <td>12.000000</td>\n",
       "      <td>31.000000</td>\n",
       "      <td>6.023668</td>\n",
       "      <td>6.146783</td>\n",
       "      <td>1.000000</td>\n",
       "    </tr>\n",
       "  </tbody>\n",
       "</table>\n",
       "</div>"
      ],
      "text/plain": [
       "            gender  near_location      partner  promo_friends        phone  \\\n",
       "count  4000.000000    4000.000000  4000.000000    4000.000000  4000.000000   \n",
       "mean      0.510250       0.845250     0.486750       0.308500     0.903500   \n",
       "std       0.499957       0.361711     0.499887       0.461932     0.295313   \n",
       "min       0.000000       0.000000     0.000000       0.000000     0.000000   \n",
       "25%       0.000000       1.000000     0.000000       0.000000     1.000000   \n",
       "50%       1.000000       1.000000     0.000000       0.000000     1.000000   \n",
       "75%       1.000000       1.000000     1.000000       1.000000     1.000000   \n",
       "max       1.000000       1.000000     1.000000       1.000000     1.000000   \n",
       "\n",
       "       contract_period  group_visits          age  \\\n",
       "count      4000.000000   4000.000000  4000.000000   \n",
       "mean          4.681250      0.412250    29.184250   \n",
       "std           4.549706      0.492301     3.258367   \n",
       "min           1.000000      0.000000    18.000000   \n",
       "25%           1.000000      0.000000    27.000000   \n",
       "50%           1.000000      0.000000    29.000000   \n",
       "75%           6.000000      1.000000    31.000000   \n",
       "max          12.000000      1.000000    41.000000   \n",
       "\n",
       "       avg_additional_charges_total  month_to_end_contract     lifetime  \\\n",
       "count                   4000.000000            4000.000000  4000.000000   \n",
       "mean                     146.943728               4.322750     3.724750   \n",
       "std                       96.355602               4.191297     3.749267   \n",
       "min                        0.148205               1.000000     0.000000   \n",
       "25%                       68.868830               1.000000     1.000000   \n",
       "50%                      136.220159               1.000000     3.000000   \n",
       "75%                      210.949625               6.000000     5.000000   \n",
       "max                      552.590740              12.000000    31.000000   \n",
       "\n",
       "       avg_class_frequency_total  avg_class_frequency_current_month  \\\n",
       "count                4000.000000                        4000.000000   \n",
       "mean                    1.879020                           1.767052   \n",
       "std                     0.972245                           1.052906   \n",
       "min                     0.000000                           0.000000   \n",
       "25%                     1.180875                           0.963003   \n",
       "50%                     1.832768                           1.719574   \n",
       "75%                     2.536078                           2.510336   \n",
       "max                     6.023668                           6.146783   \n",
       "\n",
       "             churn  \n",
       "count  4000.000000  \n",
       "mean      0.265250  \n",
       "std       0.441521  \n",
       "min       0.000000  \n",
       "25%       0.000000  \n",
       "50%       0.000000  \n",
       "75%       1.000000  \n",
       "max       1.000000  "
      ]
     },
     "execution_count": 8,
     "metadata": {},
     "output_type": "execute_result"
    }
   ],
   "source": [
    "df.describe()"
   ]
  },
  {
   "cell_type": "markdown",
   "metadata": {},
   "source": [
    "**Conclusión:**\n",
    "\n",
    "* La proporción de clientes por género está equilibrada (característica binaria) con una media de 51% y una desviación estándar del 50%.\n",
    "\n",
    "* El 85% de los clientes viven cerca del gimnasio (característica binaria) con una desviación estándar del 36%.\n",
    "\n",
    "* El 49% de los clientes trabaja en una compañia afiliada al gimnasio (característica binaria) con una desviacoón estándar del 50%.\n",
    "\n",
    "* El 31% de los clientes se inscribió mediante una oferta (característica binaria) con una desviación estándar del 46%.\n",
    "\n",
    "* El 90% de los clientes aportó el número de teléfono (característica binaria) con una desviación estándar del 29%.\n",
    "\n",
    "* La media del lapso de contratación es de 4.68 meses (característica continua) con una desviación estándar de 4.55 meses.\n",
    "\n",
    "* El 41% de los clientes partiicipa en sesiones grupales (característica binaria) con una desviación estándar del 49%.\n",
    "\n",
    "* La media de la edad de los clientes es de 29.18 años (característica continua) con ua desviación estándar de 3.26 años.\n",
    "\n",
    "* La cantidad total de dinero gastado en otros servicios por los clientes es de USD 146.94 en promedio (característica continua) con una desviación estándar de USD 96.36.\n",
    "\n",
    "* La media del tiempo que resta para culminar el contrato es de 4.32 meses (característica continua) con nuna desviación estándar de 4.19 meses.\n",
    "\n",
    "* La media del tiempo desde que llegó cada cliente al gimnasio hasta el momento del registro de los datos es de 3.72 meses (cararcterística continua) con una desviación estándar de 3.75 meses.\n",
    "\n",
    "* La frecuencia media de visitas para los clientes es de 1,76 visitas por semana (característica continua) con una desviación estándar de 0.98 visitas por semana.\n",
    "\n",
    "* El 27% de los clientes han cancelado el contrato (característica binaria) con una desviación estándar del 44%.\n",
    "\n",
    "* Hay un total de 7 característica binarias de las cuales una es la variable objetivo (churn) y un total de 6 características continuas."
   ]
  },
  {
   "cell_type": "markdown",
   "metadata": {},
   "source": [
    "## Valores medios para cada caraterística por cada grupo (clientes que no cancelan el contrato y clientes que si lo cancelan):"
   ]
  },
  {
   "cell_type": "code",
   "execution_count": 9,
   "metadata": {},
   "outputs": [
    {
     "data": {
      "text/html": [
       "<div>\n",
       "<style scoped>\n",
       "    .dataframe tbody tr th:only-of-type {\n",
       "        vertical-align: middle;\n",
       "    }\n",
       "\n",
       "    .dataframe tbody tr th {\n",
       "        vertical-align: top;\n",
       "    }\n",
       "\n",
       "    .dataframe thead th {\n",
       "        text-align: right;\n",
       "    }\n",
       "</style>\n",
       "<table border=\"1\" class=\"dataframe\">\n",
       "  <thead>\n",
       "    <tr style=\"text-align: right;\">\n",
       "      <th></th>\n",
       "      <th>gender</th>\n",
       "      <th>near_location</th>\n",
       "      <th>partner</th>\n",
       "      <th>promo_friends</th>\n",
       "      <th>phone</th>\n",
       "      <th>contract_period</th>\n",
       "      <th>group_visits</th>\n",
       "      <th>age</th>\n",
       "      <th>avg_additional_charges_total</th>\n",
       "      <th>month_to_end_contract</th>\n",
       "      <th>lifetime</th>\n",
       "      <th>avg_class_frequency_total</th>\n",
       "      <th>avg_class_frequency_current_month</th>\n",
       "    </tr>\n",
       "    <tr>\n",
       "      <th>churn</th>\n",
       "      <th></th>\n",
       "      <th></th>\n",
       "      <th></th>\n",
       "      <th></th>\n",
       "      <th></th>\n",
       "      <th></th>\n",
       "      <th></th>\n",
       "      <th></th>\n",
       "      <th></th>\n",
       "      <th></th>\n",
       "      <th></th>\n",
       "      <th></th>\n",
       "      <th></th>\n",
       "    </tr>\n",
       "  </thead>\n",
       "  <tbody>\n",
       "    <tr>\n",
       "      <th>0</th>\n",
       "      <td>0.510037</td>\n",
       "      <td>0.873086</td>\n",
       "      <td>0.534195</td>\n",
       "      <td>0.353522</td>\n",
       "      <td>0.903709</td>\n",
       "      <td>5.747193</td>\n",
       "      <td>0.464103</td>\n",
       "      <td>29.976523</td>\n",
       "      <td>158.445715</td>\n",
       "      <td>5.283089</td>\n",
       "      <td>4.711807</td>\n",
       "      <td>2.024876</td>\n",
       "      <td>2.027882</td>\n",
       "    </tr>\n",
       "    <tr>\n",
       "      <th>1</th>\n",
       "      <td>0.510839</td>\n",
       "      <td>0.768143</td>\n",
       "      <td>0.355325</td>\n",
       "      <td>0.183789</td>\n",
       "      <td>0.902922</td>\n",
       "      <td>1.728558</td>\n",
       "      <td>0.268615</td>\n",
       "      <td>26.989632</td>\n",
       "      <td>115.082899</td>\n",
       "      <td>1.662582</td>\n",
       "      <td>0.990575</td>\n",
       "      <td>1.474995</td>\n",
       "      <td>1.044546</td>\n",
       "    </tr>\n",
       "  </tbody>\n",
       "</table>\n",
       "</div>"
      ],
      "text/plain": [
       "         gender  near_location   partner  promo_friends     phone  \\\n",
       "churn                                                               \n",
       "0      0.510037       0.873086  0.534195       0.353522  0.903709   \n",
       "1      0.510839       0.768143  0.355325       0.183789  0.902922   \n",
       "\n",
       "       contract_period  group_visits        age  avg_additional_charges_total  \\\n",
       "churn                                                                           \n",
       "0             5.747193      0.464103  29.976523                    158.445715   \n",
       "1             1.728558      0.268615  26.989632                    115.082899   \n",
       "\n",
       "       month_to_end_contract  lifetime  avg_class_frequency_total  \\\n",
       "churn                                                               \n",
       "0                   5.283089  4.711807                   2.024876   \n",
       "1                   1.662582  0.990575                   1.474995   \n",
       "\n",
       "       avg_class_frequency_current_month  \n",
       "churn                                     \n",
       "0                               2.027882  \n",
       "1                               1.044546  "
      ]
     },
     "execution_count": 9,
     "metadata": {},
     "output_type": "execute_result"
    }
   ],
   "source": [
    "df.groupby('churn').mean()"
   ]
  },
  {
   "cell_type": "markdown",
   "metadata": {},
   "source": [
    "**Conclusiones:**\n",
    "\n",
    "* El porcentaje de clientes para cada **género** es muy **similar** para el grupo de personas que cancelan que para el grupo de personas que continúan en el gimnasio, siendo en ambos casos las proporciones del **51** y **49%** para cada género en ambos grupos, razón por la cual **no** se puede inferir que el género del cliente **influya** en la decisión de cancelación.\n",
    "\n",
    "* El porcentaje de clientes que **viven cerca del gimnasio** es un poco **mayor** en el grupo de **clientes que continúan en el gimnasio** que en el grupo de los que **cancelan** siendo éste porcentaje del **87** y el **77%** respectivamente, tomando en cosnideración dicha diferencia, se puede inferir que esta característica puede **influir** en la decisión de **cancelación** por parte del cliente.\n",
    "\n",
    "* El porcentaje de clientes que **trabajan en empresas afiliadas** al gimnasio y que continúan es del **53%**, mientras que en el caso de las que las personas que cancelqan es del **35%** lo cual es una diferencia importante y que podía considerarse que **afecta** en la decisión del cliente de **cancelar**.\n",
    "\n",
    "* El porcentaje de clientes que llegaron al gimnasio por la promoción **\"trae a un amigo\"** es del **35%** en el grupo de clientes que se quedan en el gimnasio, mientras que en el caso de los que cancelaron éste porcentaje es del **18%** por lo cual se puede deducir que esta característica **influye** en la decisión de **cancelación** de los clientes.\n",
    "\n",
    "* La proporción de personas **aportaron un número de teléfono** en el momento del registro es del **90%** para ambos grupos, razón por la cual **no** se espera que esta característica **incida** en la **cancelación** de los clientes.\n",
    "\n",
    "* El promedio de **meses del contrato** es **más alto** en el grupo de personas que **se quedan** que en el grupo de las personas que **cancelan**, siendo éste promedio de **5.75** y **1.73** meses respectivamente razón por la cual se infiere que esta característica **influye** en la decisión de **cancelación** del cliente.\n",
    "\n",
    "* El **46%** de los clientes que continúan en el gimnasio participan de **sesiones grupales de entrenamiento**, mientras que el **27%** de los clientes que cancelan participan de sesiones grupales, razón por la cual se puede esperar que esta característica **incida** en la decisión de **cancelar** el cliente.\n",
    "\n",
    "* La **edad** promedio de los clientes que **continúan** es de **29.98 años**, mientras que la edad promedio de las personas que **cancelan** es de **26.99 años**, por lo que se puede considerar que esta característica puede **afectar** la decisión de **cancelación**.\n",
    "\n",
    "* El **gasto en otros servicios del gimnasio** promedio es de **USD 158.45** para el grupo de los clientes que **continúan**, mientras que en los clientes que **cancelan**, ese promedio es de **USD 115.08** por lo que se deduce que esta característica **incide** en la decisión de **cancelar**.\n",
    "\n",
    "* El **tiempo que resta para finalizar el contrato** es de **5.28 meses** en promedio para los clientes que **continúan** y de **1.66 meses** en promedio para los clientes que **cancelan**, por lo que se observa que esta variable puede **afectar** en la decisión de **cancelar** por parte del cliente.\n",
    "\n",
    "* El **tiempo que ha transcurrido desde que el cliente fué al gimnasio por primera vez** es de **4.71 meses** en promedio para los clientes que **continúan** en el gimnasio, mientras que para los clientes que **cancelan** es de **0.99 meses** en promedio, por lo cual se puede apreciar una fuerte **relación** entre la **antigüedad** de un cliente y la probabilidad de que éste **cancele**.\n",
    "\n",
    "* La **frecuencia de visitas promedio por semana a lo largo de la vida del cliente** al gimnasio por prate de los clientes que **continúan** es de **2.02 visitas por semana** en promedio; mientras que para los clientes que **cancelan**, éste valor es de **1.48 visitas semanales** en promedio, por lo que se puede considerar que esta característica **incide** en la **cancelación** de los clientes.\n",
    "\n",
    "* La **frecuencia promedio de visitas por semana en el último mes** para los clientes que **continúan** se mantiene aproximadamente **constante** respecto a la **frecuencia promedio para todo el tiempo de vida del cliente**, mientras que la **frecuencia promedio de visitas semanales para el último mes disminuye** respecto al **promedio de todo el tiempo de vida del cliente** en el grupo de personas que **cancelan**, por lo que se puede concluir que esta variable puede ayudar a **pedecir** la **cancelación** de los clientes."
   ]
  },
  {
   "cell_type": "markdown",
   "metadata": {},
   "source": [
    "### Gráfico de barras para observar la proporción de clientes que no cancelaron el contrato y los  que si lo cancelaron:"
   ]
  },
  {
   "cell_type": "code",
   "execution_count": 10,
   "metadata": {},
   "outputs": [
    {
     "data": {
      "image/png": "[encoded data removed]",
      "text/plain": [
       "<Figure size 1000x600 with 1 Axes>"
      ]
     },
     "metadata": {},
     "output_type": "display_data"
    }
   ],
   "source": [
    "conteo = df.churn.value_counts()\n",
    "\n",
    "cols = ['#addeff', '#e82d1f']\n",
    "\n",
    "plt.figure(figsize = (10, 6))\n",
    "plt.bar(conteo.index, conteo.values,  color=cols, edgecolor='black')\n",
    "plt.title('Cantidad de clientes con contratos vigentes (izquierda) y contratos cancelados (derecha)')\n",
    "plt.grid(True)\n",
    "plt.show()"
   ]
  },
  {
   "cell_type": "code",
   "execution_count": 11,
   "metadata": {},
   "outputs": [
    {
     "name": "stdout",
     "output_type": "stream",
     "text": [
      "La cantidad total de clientes con contrato vigente y contrato cancelado es:\n"
     ]
    },
    {
     "data": {
      "text/plain": [
       "0    2939\n",
       "1    1061\n",
       "Name: churn, dtype: int64"
      ]
     },
     "execution_count": 11,
     "metadata": {},
     "output_type": "execute_result"
    }
   ],
   "source": [
    "print('La cantidad total de clientes con contrato vigente y contrato cancelado es:')\n",
    "conteo"
   ]
  },
  {
   "cell_type": "markdown",
   "metadata": {},
   "source": [
    "**Conclusión:**\n",
    "\n",
    "* Un poco más de 2900 usuarios correspoden a clientes cuyo contrato aún está vigente.\n",
    "\n",
    "* Un poco más de 1000 usuarios corresponden a clientes cuyo contrato ya se canceló. "
   ]
  },
  {
   "cell_type": "markdown",
   "metadata": {},
   "source": [
    "### Gráficos de barras para  observar la relación entre el lapso de duración del contrato y  las caraterísticas binarias de los clientes:"
   ]
  },
  {
   "cell_type": "code",
   "execution_count": 12,
   "metadata": {},
   "outputs": [
    {
     "data": {
      "image/png": "[encoded data removed]",
      "text/plain": [
       "<Figure size 1500x900 with 6 Axes>"
      ]
     },
     "metadata": {},
     "output_type": "display_data"
    }
   ],
   "source": [
    "# Se seleccionan las características binarias de los clientes:\n",
    "columns = ['gender', 'near_location', 'partner', 'promo_friends', 'phone', 'group_visits']\n",
    "\n",
    "# Se distribuyen las gráficas de las características binarias:\n",
    "fig, axs = plt.subplots(nrows=2, ncols=3, figsize=(15,9))\n",
    "\n",
    "# Bucle para generar cada gráfica:\n",
    "for i, ax in enumerate(axs.flat):\n",
    "    if i < len(columns):\n",
    "        sns.barplot(x='contract_period', y=columns[i], data=df, hue='churn', ax=ax)\n",
    "        ax.legend([], [], frameon=False)\n",
    "        ax.set_xlabel('')\n",
    "        ax.set_ylabel('')\n",
    "        ax.set_title(f'{columns[i]}', fontsize=14)\n",
    "    else:\n",
    "        ax.axis('off')\n",
    "\n",
    "# Obtener los identificadores y etiquetas de la leyenda:\n",
    "handles, labels = plt.gca().get_legend_handles_labels()\n",
    "\n",
    "# Personalizar la leyenda:\n",
    "plt.legend(handles, labels, title='churn', loc='upper center', bbox_to_anchor=(1, -0.1), frameon=True)\n",
    "\n",
    "fig.suptitle('Relación entre el período del contrato y las características binarias', fontsize=16)\n",
    "fig.subplots_adjust(top=0.88)\n",
    "plt.show()"
   ]
  },
  {
   "cell_type": "markdown",
   "metadata": {},
   "source": [
    "**Conclusión:**\n",
    "\n",
    "* Al comparar las caraterísticas binarias de todos los clientes de forma general, solo se observan diferencias en las caraterísticas **'promo_friends'** y **'group_visits'**.\n",
    "\n",
    "* La **mayor proporción de clientes que cancelaron** corresponde a clientes que **no llegaron por algún descuento promocional de un amigo** y esto es cierto para los clientes con **lapsos de contrato de 6 meses o menos**.\n",
    "\n",
    "* En cuanto a la caraterística **'group_visits'** se puede concluir que el mayor porcentaje de clientes que cancelaron, corresponde a **clientes que no participaban de entrenamientos grupales** y cuyos contratos eran de **menos de 6 meses**.\n",
    "\n",
    "* En las otras caraterísticas binarias no se observó diferencias significativas entre los grupos de personas que cancelan y los de personas que se quedan.\n",
    "\n",
    "* En resumen, las diferencias entre los clientes que cancelan y los que se quedan no son lo suficientemente marcadas como para poder predecir con seguridad o con un alto porcentaje de atino, que los clientes cancelen o se vayan."
   ]
  },
  {
   "cell_type": "markdown",
   "metadata": {},
   "source": [
    "### Gráficos de barras para  observar la relación entre el lapso de duración del contrato y  las caraterísticas continuas de los clientes:"
   ]
  },
  {
   "cell_type": "code",
   "execution_count": 13,
   "metadata": {},
   "outputs": [
    {
     "data": {
      "image/png": "[encoded data removed]",
      "text/plain": [
       "<Figure size 1500x900 with 6 Axes>"
      ]
     },
     "metadata": {},
     "output_type": "display_data"
    }
   ],
   "source": [
    "# Se seleccionan las características continuas de los clientes:\n",
    "columns = ['age', 'avg_additional_charges_total', 'month_to_end_contract',\n",
    "           'lifetime', 'avg_class_frequency_total', 'avg_class_frequency_current_month']\n",
    "\n",
    "# Se asigna el color de las barras:\n",
    "cols = ['blue', 'orange']\n",
    "\n",
    "# Se crean los gráficos:\n",
    "fig, axs = plt.subplots(nrows=2, ncols=3, figsize=(15,9))\n",
    "for i, ax in enumerate(axs.flat):\n",
    "    if i < len(columns):\n",
    "        sns.histplot(x=columns[i], data=df, hue='churn', palette=cols, ax=ax)\n",
    "        ax.legend([], [], frameon=False)\n",
    "        ax.set_xlabel('')\n",
    "        ax.set_ylabel('')\n",
    "        ax.set_title(f'{columns[i]}', fontsize=14)\n",
    "    else:\n",
    "        ax.axis('off')\n",
    "\n",
    "# Obtener los identificadores y etiquetas de la leyenda:\n",
    "handles, labels = plt.gca().get_legend_handles_labels()\n",
    "\n",
    "# Personalizar la leyenda:\n",
    "plt.legend(handles, labels, title='churn', loc='upper center', bbox_to_anchor=(1, -0.1), frameon=True)\n",
    "\n",
    "# Se asigna el título del gráfico:\n",
    "fig.suptitle('Relación entre la cancelación del contrato y las características continuas', fontsize=16)\n",
    "fig.subplots_adjust(top=0.88)\n",
    "\n",
    "# Se muestran los gráficos:\n",
    "plt.show()"
   ]
  },
  {
   "cell_type": "markdown",
   "metadata": {},
   "source": [
    "**Conclusiones:**\n",
    "\n",
    "* La media de edad de los clientes es ligeramente menor en los clientes que cancelan que en loc clientes que se quedan; además, lo clientes de más de 33 años son los que menos probabilidad tienen de cancelar.\n",
    "\n",
    "* Los clientes que gastan en el mes más de **USD 300** en otros servicios del gimnasio tienen menos probabilidad de cancelar.\n",
    "\n",
    "* Para la característica **'month_to_end_contract'** lo más común y casi único es que los clientes que cancelan les falta un mes para finalizar el contrato, pero no permite predecir ya que no todos los clientes a los que les queda un mes para finalizar el contrato lo cancelan.\n",
    "\n",
    "* Casi todos los clientes que cancelan tienen **menos de 6 meses** de haber acudido al gimnasio **por primera vez**.\n",
    "\n",
    "* La gran mayoría de clientes que canelan acuden al gimnasio **menos de 3 veces a la semana en promedio**.\n",
    "\n",
    "* Al observar todas estas características y su distribución, no es del todo preciso realizar predicciones de cancelación con estos gráficos o valores, ya que así como se tienen clientes que cancelan en ciertos rangos de cada caraterística, del mismo modo los clientes que no cancelan comparten ese mismo rango de valores de las características, razón por la cual los modelos de pronósticos o predicciones pueden ser muy útiles para hallar vinculaciones entre los valores que un humano no podría identificar debido al gran volumne de datos y características involucradas."
   ]
  },
  {
   "cell_type": "markdown",
   "metadata": {},
   "source": [
    "### Mapa de calor de la correlación entre las características:"
   ]
  },
  {
   "cell_type": "code",
   "execution_count": 14,
   "metadata": {},
   "outputs": [
    {
     "data": {
      "image/png": "[encoded data removed]",
      "text/plain": [
       "<Figure size 1200x900 with 2 Axes>"
      ]
     },
     "metadata": {},
     "output_type": "display_data"
    }
   ],
   "source": [
    "# Se seleccionan los nombres de las características continuas:\n",
    "quant_cols = ['contract_period', 'age', 'avg_additional_charges_total',\n",
    "              'month_to_end_contract', 'lifetime', 'avg_class_frequency_total',\n",
    "              'avg_class_frequency_current_month']\n",
    "\n",
    "# Se separan las columnas con las características continuas:\n",
    "gym_churn_quant = df[quant_cols]\n",
    "\n",
    "# Se obtiene la matriz de correlación de las variables:\n",
    "cm = gym_churn_quant.corr()\n",
    "\n",
    "# Se asigna el tamaño de la figura:\n",
    "plt.figure(figsize=(12,9))\n",
    "\n",
    "# Se asigna título al gráfico:\n",
    "plt.title('Matriz de correlación entre características')\n",
    "\n",
    "# Se configura el mapa de calor:\n",
    "sns.heatmap(cm, fmt='.2f', annot=True, square=True, linewidths=1, linecolor='white', cmap='coolwarm')\n",
    "\n",
    "# Se muestra el mapa de calor:\n",
    "plt.show(block=False)"
   ]
  },
  {
   "cell_type": "markdown",
   "metadata": {},
   "source": [
    "**Conclusión:**\n",
    "\n",
    "* La frecuencia media de visitas semanales de los clientes en el mes en curso y el promedio de visitas semanales a lo largo de la vida del cliente se mentienen casi iguales por lo que el R cuadrado es casi 1 por lo que trabajar con una u otra característica es casi lo mismo.\n",
    "\n",
    "* Del mismo modo ocurre con lapso de duración del contrato y los meses para finalizar el contrato, aunque no necesariamente un cliente va a esperarse a que se cumpla el tiempo de contrato para cancelar sino que éste puede cancelar antes de que se cumpla dicho tiempo.\n",
    "\n",
    "* El resto de variables tienen una correclación muy baja entre ellas."
   ]
  },
  {
   "cell_type": "markdown",
   "metadata": {},
   "source": [
    "# Paso 3: Construir un modelo para predecir la cancelación de usuarios:"
   ]
  },
  {
   "cell_type": "markdown",
   "metadata": {},
   "source": [
    "Crear un modelo de clasificación binaria para clientes donde la característica objetivo es la marcha del usuario o la usuaria el mes siguiente."
   ]
  },
  {
   "cell_type": "markdown",
   "metadata": {},
   "source": [
    "## Dividir los datos en conjuntos de entrenamiento y validación utilizando la función train_test_split()."
   ]
  },
  {
   "cell_type": "code",
   "execution_count": 15,
   "metadata": {},
   "outputs": [],
   "source": [
    "# Se obtienen los valores \"X\" (variables independientes):\n",
    "X = df.drop('churn', axis = 1)\n",
    "# Se obtienen los valores \"y\" (variable objetivo):\n",
    "y = df['churn']\n",
    "\n",
    "# Dividir los datos en entrenamiento y prueba:\n",
    "X_train, X_test, y_train, y_test = train_test_split(X, y, test_size=0.2, random_state=0)"
   ]
  },
  {
   "cell_type": "markdown",
   "metadata": {},
   "source": [
    "## Entrena el modelo en el set de entrenamiento con dos métodos:"
   ]
  },
  {
   "cell_type": "markdown",
   "metadata": {},
   "source": [
    "* Regresión logística.\n",
    "\n",
    "* Bosque aleatorio."
   ]
  },
  {
   "cell_type": "markdown",
   "metadata": {},
   "source": [
    "### Entrenar el modelo con los datos dados empleando el método de Regresión Logística:"
   ]
  },
  {
   "cell_type": "markdown",
   "metadata": {},
   "source": [
    "#### Se cambia la escala de los datos de entrenamiento y de prueba:"
   ]
  },
  {
   "cell_type": "code",
   "execution_count": 16,
   "metadata": {},
   "outputs": [],
   "source": [
    "# Se cambia la escala de los valores de entrenamiento y prueba:\n",
    "scaler = StandardScaler()\n",
    "\n",
    "# Se transforma la escala de los valores de entrenamiento del modelo (las variables binarias no sufren ninguna modificación\n",
    "# al realizar esta transformación):\n",
    "X_train_st = scaler.fit_transform(X_train) \n",
    "\n",
    "# Se transforma la escala de los valores de prueba\n",
    "X_test_st = scaler.transform(X_test)"
   ]
  },
  {
   "cell_type": "markdown",
   "metadata": {},
   "source": [
    "#### Se selecciona el modelo para el entrenamiento:"
   ]
  },
  {
   "cell_type": "code",
   "execution_count": 18,
   "metadata": {},
   "outputs": [
    {
     "data": {
      "text/plain": [
       "LogisticRegression(class_weight='balanced', random_state=0)"
      ]
     },
     "execution_count": 18,
     "metadata": {},
     "output_type": "execute_result"
    }
   ],
   "source": [
    "# Se selecciona el modelo de entrenamiento y se fija el estado aleatorio en 0 y considerando las clases balanceadas:\n",
    "model_lr = LogisticRegression(random_state = 0, class_weight = 'balanced')\n",
    "\n",
    "# Se entrena el modelo dados los valores X_train_st y y_train\n",
    "model_lr.fit(X_train_st, y_train)"
   ]
  },
  {
   "cell_type": "markdown",
   "metadata": {},
   "source": [
    "#### Se realiza el pronóstico:"
   ]
  },
  {
   "cell_type": "code",
   "execution_count": 38,
   "metadata": {},
   "outputs": [
    {
     "name": "stdout",
     "output_type": "stream",
     "text": [
      "La primeras 5 predicciones del modelo de Regresión Logística, son:\n",
      "\n"
     ]
    },
    {
     "data": {
      "text/plain": [
       "array([0, 1, 1, 1, 0])"
      ]
     },
     "execution_count": 38,
     "metadata": {},
     "output_type": "execute_result"
    }
   ],
   "source": [
    "# Se realiza el pronóstico con los valores de prueba estandarizados:\n",
    "pred_lr = model_lr.predict(X_test_st)\n",
    "\n",
    "# Se muestran las primeras 5 filas de predicciones:\n",
    "print('La primeras 5 predicciones del modelo de Regresión Logística, son:\\n')\n",
    "pred_lr[:5]"
   ]
  },
  {
   "cell_type": "markdown",
   "metadata": {},
   "source": [
    "#### Probabilidades de cancelación de cada cliente:"
   ]
  },
  {
   "cell_type": "code",
   "execution_count": 39,
   "metadata": {},
   "outputs": [
    {
     "name": "stdout",
     "output_type": "stream",
     "text": [
      "La probabilidades de que cada uno de los primeros clientes cancele según el modelo de Regresión Logística, son:\n",
      "\n"
     ]
    },
    {
     "data": {
      "text/plain": [
       "array([0.00351837, 0.99088582, 0.69028176, 0.97514174, 0.07095339])"
      ]
     },
     "execution_count": 39,
     "metadata": {},
     "output_type": "execute_result"
    }
   ],
   "source": [
    "# Se realiza el cálculo de probabilidades de pertenecer a la clase:\n",
    "pred_prob_lr = model_lr.predict_proba(X_test_st)[:, 1]\n",
    "\n",
    "# Se muestran las primeras 5 filas de las probabilidades de que cada cliente cancele:\n",
    "print('La probabilidades de que cada uno de los primeros clientes cancele según el modelo de Regresión Logística, son:\\n')\n",
    "pred_prob_lr[:5]"
   ]
  },
  {
   "cell_type": "markdown",
   "metadata": {},
   "source": [
    "#### Cancelación real y predición de cancelación:"
   ]
  },
  {
   "cell_type": "code",
   "execution_count": 21,
   "metadata": {},
   "outputs": [
    {
     "data": {
      "text/html": [
       "<div>\n",
       "<style scoped>\n",
       "    .dataframe tbody tr th:only-of-type {\n",
       "        vertical-align: middle;\n",
       "    }\n",
       "\n",
       "    .dataframe tbody tr th {\n",
       "        vertical-align: top;\n",
       "    }\n",
       "\n",
       "    .dataframe thead th {\n",
       "        text-align: right;\n",
       "    }\n",
       "</style>\n",
       "<table border=\"1\" class=\"dataframe\">\n",
       "  <thead>\n",
       "    <tr style=\"text-align: right;\">\n",
       "      <th></th>\n",
       "      <th>y_real</th>\n",
       "      <th>y_pred</th>\n",
       "    </tr>\n",
       "  </thead>\n",
       "  <tbody>\n",
       "    <tr>\n",
       "      <th>2230</th>\n",
       "      <td>0</td>\n",
       "      <td>0</td>\n",
       "    </tr>\n",
       "    <tr>\n",
       "      <th>668</th>\n",
       "      <td>1</td>\n",
       "      <td>1</td>\n",
       "    </tr>\n",
       "    <tr>\n",
       "      <th>3616</th>\n",
       "      <td>0</td>\n",
       "      <td>1</td>\n",
       "    </tr>\n",
       "    <tr>\n",
       "      <th>2363</th>\n",
       "      <td>1</td>\n",
       "      <td>1</td>\n",
       "    </tr>\n",
       "    <tr>\n",
       "      <th>142</th>\n",
       "      <td>0</td>\n",
       "      <td>0</td>\n",
       "    </tr>\n",
       "    <tr>\n",
       "      <th>...</th>\n",
       "      <td>...</td>\n",
       "      <td>...</td>\n",
       "    </tr>\n",
       "    <tr>\n",
       "      <th>1118</th>\n",
       "      <td>1</td>\n",
       "      <td>1</td>\n",
       "    </tr>\n",
       "    <tr>\n",
       "      <th>3572</th>\n",
       "      <td>0</td>\n",
       "      <td>0</td>\n",
       "    </tr>\n",
       "    <tr>\n",
       "      <th>2482</th>\n",
       "      <td>0</td>\n",
       "      <td>0</td>\n",
       "    </tr>\n",
       "    <tr>\n",
       "      <th>643</th>\n",
       "      <td>0</td>\n",
       "      <td>0</td>\n",
       "    </tr>\n",
       "    <tr>\n",
       "      <th>299</th>\n",
       "      <td>0</td>\n",
       "      <td>0</td>\n",
       "    </tr>\n",
       "  </tbody>\n",
       "</table>\n",
       "<p>800 rows × 2 columns</p>\n",
       "</div>"
      ],
      "text/plain": [
       "      y_real  y_pred\n",
       "2230       0       0\n",
       "668        1       1\n",
       "3616       0       1\n",
       "2363       1       1\n",
       "142        0       0\n",
       "...      ...     ...\n",
       "1118       1       1\n",
       "3572       0       0\n",
       "2482       0       0\n",
       "643        0       0\n",
       "299        0       0\n",
       "\n",
       "[800 rows x 2 columns]"
      ]
     },
     "execution_count": 21,
     "metadata": {},
     "output_type": "execute_result"
    }
   ],
   "source": [
    "# Se comparan los valores de prueba 'y_test' y los del pronóstico 'y_pred'\n",
    "predicciones_lr = pd.DataFrame({'y_real': y_test.values, 'y_pred': pred_lr}, index = y_test.index)\n",
    "\n",
    "# Se muestran los valores reales de cancelación de los datos de prueba y los de la predicción:\n",
    "print('Valores reales de la cancelación de los datos de prueba junto con los de la predicción con el modelo de',\n",
    "      'Regresión Logística:\\n')\n",
    "predicciones_lr"
   ]
  },
  {
   "cell_type": "markdown",
   "metadata": {},
   "source": [
    "### Entrenar el modelo con los datos dados empleando el método de Bosque Aleatorio:"
   ]
  },
  {
   "cell_type": "markdown",
   "metadata": {},
   "source": [
    "#### Se selecciona el modelo para el entrenamiento:"
   ]
  },
  {
   "cell_type": "code",
   "execution_count": 23,
   "metadata": {},
   "outputs": [
    {
     "data": {
      "text/plain": [
       "RandomForestClassifier(max_depth=10, n_estimators=50, random_state=0)"
      ]
     },
     "execution_count": 23,
     "metadata": {},
     "output_type": "execute_result"
    }
   ],
   "source": [
    "# Se selecciona el modelo de entrenamiento Random Forest seleccionando un total de 50 árboles y de 10 ramas, esto con el fin\n",
    "# de tener alta precisión pero sin sobre cargar el equipo.\n",
    "model_rf = RandomForestClassifier(n_estimators = 50, max_depth = 10, random_state = 0)\n",
    "\n",
    "# Se entrena el modelo dados los valores X_train_st y y_train\n",
    "model_rf.fit(X_train_st, y_train)"
   ]
  },
  {
   "cell_type": "markdown",
   "metadata": {},
   "source": [
    "#### Se realiza el pronóstico:"
   ]
  },
  {
   "cell_type": "code",
   "execution_count": 40,
   "metadata": {},
   "outputs": [
    {
     "name": "stdout",
     "output_type": "stream",
     "text": [
      "La primeras 5 predicciones del modelo de Bsoque Aleatorio, son:\n",
      "\n"
     ]
    },
    {
     "data": {
      "text/plain": [
       "array([0, 1, 0, 1, 0])"
      ]
     },
     "execution_count": 40,
     "metadata": {},
     "output_type": "execute_result"
    }
   ],
   "source": [
    "# Se realiza el pronóstico con los valores de prueba estandarizados:\n",
    "pred_rf = model_rf.predict(X_test_st)\n",
    "\n",
    "# Se muestran las primeras 5 filas de predicciones:\n",
    "print('La primeras 5 predicciones del modelo de Bsoque Aleatorio, son:\\n')\n",
    "pred_rf[:5]"
   ]
  },
  {
   "cell_type": "markdown",
   "metadata": {},
   "source": [
    "#### Probabilidades de cancelación de cada cliente:"
   ]
  },
  {
   "cell_type": "code",
   "execution_count": 41,
   "metadata": {},
   "outputs": [
    {
     "name": "stdout",
     "output_type": "stream",
     "text": [
      "La probabilidades de que cada uno de los primeros clientes cancele según el modelo de Bosque Aleatorio, son:\n",
      "\n"
     ]
    },
    {
     "data": {
      "text/plain": [
       "array([0.02042553, 0.95240819, 0.20840476, 0.88075128, 0.06333333])"
      ]
     },
     "execution_count": 41,
     "metadata": {},
     "output_type": "execute_result"
    }
   ],
   "source": [
    "# Se realiza el cálculo de probabilidades de pertenecer a la clase:\n",
    "pred_prob_rf = model_rf.predict_proba(X_test_st)[:, 1]\n",
    "\n",
    "# Se muestran las primeras 5 filas de las probabilidades de que cada cliente cancele:\n",
    "print('La probabilidades de que cada uno de los primeros clientes cancele según el modelo de Bosque Aleatorio, son:\\n')\n",
    "pred_prob_rf[:5]"
   ]
  },
  {
   "cell_type": "markdown",
   "metadata": {},
   "source": [
    "#### Cancelación real y predicción de cancelación:"
   ]
  },
  {
   "cell_type": "code",
   "execution_count": 26,
   "metadata": {},
   "outputs": [
    {
     "data": {
      "text/html": [
       "<div>\n",
       "<style scoped>\n",
       "    .dataframe tbody tr th:only-of-type {\n",
       "        vertical-align: middle;\n",
       "    }\n",
       "\n",
       "    .dataframe tbody tr th {\n",
       "        vertical-align: top;\n",
       "    }\n",
       "\n",
       "    .dataframe thead th {\n",
       "        text-align: right;\n",
       "    }\n",
       "</style>\n",
       "<table border=\"1\" class=\"dataframe\">\n",
       "  <thead>\n",
       "    <tr style=\"text-align: right;\">\n",
       "      <th></th>\n",
       "      <th>y_real</th>\n",
       "      <th>y_pred</th>\n",
       "    </tr>\n",
       "  </thead>\n",
       "  <tbody>\n",
       "    <tr>\n",
       "      <th>2230</th>\n",
       "      <td>0</td>\n",
       "      <td>0</td>\n",
       "    </tr>\n",
       "    <tr>\n",
       "      <th>668</th>\n",
       "      <td>1</td>\n",
       "      <td>1</td>\n",
       "    </tr>\n",
       "    <tr>\n",
       "      <th>3616</th>\n",
       "      <td>0</td>\n",
       "      <td>0</td>\n",
       "    </tr>\n",
       "    <tr>\n",
       "      <th>2363</th>\n",
       "      <td>1</td>\n",
       "      <td>1</td>\n",
       "    </tr>\n",
       "    <tr>\n",
       "      <th>142</th>\n",
       "      <td>0</td>\n",
       "      <td>0</td>\n",
       "    </tr>\n",
       "    <tr>\n",
       "      <th>...</th>\n",
       "      <td>...</td>\n",
       "      <td>...</td>\n",
       "    </tr>\n",
       "    <tr>\n",
       "      <th>1118</th>\n",
       "      <td>1</td>\n",
       "      <td>1</td>\n",
       "    </tr>\n",
       "    <tr>\n",
       "      <th>3572</th>\n",
       "      <td>0</td>\n",
       "      <td>0</td>\n",
       "    </tr>\n",
       "    <tr>\n",
       "      <th>2482</th>\n",
       "      <td>0</td>\n",
       "      <td>0</td>\n",
       "    </tr>\n",
       "    <tr>\n",
       "      <th>643</th>\n",
       "      <td>0</td>\n",
       "      <td>0</td>\n",
       "    </tr>\n",
       "    <tr>\n",
       "      <th>299</th>\n",
       "      <td>0</td>\n",
       "      <td>0</td>\n",
       "    </tr>\n",
       "  </tbody>\n",
       "</table>\n",
       "<p>800 rows × 2 columns</p>\n",
       "</div>"
      ],
      "text/plain": [
       "      y_real  y_pred\n",
       "2230       0       0\n",
       "668        1       1\n",
       "3616       0       0\n",
       "2363       1       1\n",
       "142        0       0\n",
       "...      ...     ...\n",
       "1118       1       1\n",
       "3572       0       0\n",
       "2482       0       0\n",
       "643        0       0\n",
       "299        0       0\n",
       "\n",
       "[800 rows x 2 columns]"
      ]
     },
     "execution_count": 26,
     "metadata": {},
     "output_type": "execute_result"
    }
   ],
   "source": [
    "# Se comparan los valores de prueba 'y_test' y los del pronóstico 'y_pred'\n",
    "predicciones_rf = pd.DataFrame({'y_real': y_test.values, 'y_pred': pred_rf}, index = y_test.index)\n",
    "\n",
    "# Se muestran los valores reales de cancelación de los datos de prueba y los de la predicción:\n",
    "print('Valores reales de la cancelación de los datos de prueba junto con los de la predicción con el modelo de',\n",
    "      'Bosque Aleatorio:\\n')\n",
    "predicciones_rf"
   ]
  },
  {
   "cell_type": "markdown",
   "metadata": {},
   "source": [
    "### Unión de los pronósticos de ambos modelos:"
   ]
  },
  {
   "cell_type": "code",
   "execution_count": 42,
   "metadata": {},
   "outputs": [
    {
     "name": "stdout",
     "output_type": "stream",
     "text": [
      "Las cancelaciones reales y las predichas por los modelos de Regresión Logística y Bosque Aleatorio, son:\n",
      "\n"
     ]
    },
    {
     "data": {
      "text/html": [
       "<div>\n",
       "<style scoped>\n",
       "    .dataframe tbody tr th:only-of-type {\n",
       "        vertical-align: middle;\n",
       "    }\n",
       "\n",
       "    .dataframe tbody tr th {\n",
       "        vertical-align: top;\n",
       "    }\n",
       "\n",
       "    .dataframe thead th {\n",
       "        text-align: right;\n",
       "    }\n",
       "</style>\n",
       "<table border=\"1\" class=\"dataframe\">\n",
       "  <thead>\n",
       "    <tr style=\"text-align: right;\">\n",
       "      <th></th>\n",
       "      <th>y_real</th>\n",
       "      <th>pred_lr</th>\n",
       "      <th>pred_rf</th>\n",
       "    </tr>\n",
       "  </thead>\n",
       "  <tbody>\n",
       "    <tr>\n",
       "      <th>2230</th>\n",
       "      <td>0</td>\n",
       "      <td>0</td>\n",
       "      <td>0</td>\n",
       "    </tr>\n",
       "    <tr>\n",
       "      <th>668</th>\n",
       "      <td>1</td>\n",
       "      <td>1</td>\n",
       "      <td>1</td>\n",
       "    </tr>\n",
       "    <tr>\n",
       "      <th>3616</th>\n",
       "      <td>0</td>\n",
       "      <td>1</td>\n",
       "      <td>0</td>\n",
       "    </tr>\n",
       "    <tr>\n",
       "      <th>2363</th>\n",
       "      <td>1</td>\n",
       "      <td>1</td>\n",
       "      <td>1</td>\n",
       "    </tr>\n",
       "    <tr>\n",
       "      <th>142</th>\n",
       "      <td>0</td>\n",
       "      <td>0</td>\n",
       "      <td>0</td>\n",
       "    </tr>\n",
       "    <tr>\n",
       "      <th>...</th>\n",
       "      <td>...</td>\n",
       "      <td>...</td>\n",
       "      <td>...</td>\n",
       "    </tr>\n",
       "    <tr>\n",
       "      <th>1118</th>\n",
       "      <td>1</td>\n",
       "      <td>1</td>\n",
       "      <td>1</td>\n",
       "    </tr>\n",
       "    <tr>\n",
       "      <th>3572</th>\n",
       "      <td>0</td>\n",
       "      <td>0</td>\n",
       "      <td>0</td>\n",
       "    </tr>\n",
       "    <tr>\n",
       "      <th>2482</th>\n",
       "      <td>0</td>\n",
       "      <td>0</td>\n",
       "      <td>0</td>\n",
       "    </tr>\n",
       "    <tr>\n",
       "      <th>643</th>\n",
       "      <td>0</td>\n",
       "      <td>0</td>\n",
       "      <td>0</td>\n",
       "    </tr>\n",
       "    <tr>\n",
       "      <th>299</th>\n",
       "      <td>0</td>\n",
       "      <td>0</td>\n",
       "      <td>0</td>\n",
       "    </tr>\n",
       "  </tbody>\n",
       "</table>\n",
       "<p>800 rows × 3 columns</p>\n",
       "</div>"
      ],
      "text/plain": [
       "      y_real  pred_lr  pred_rf\n",
       "2230       0        0        0\n",
       "668        1        1        1\n",
       "3616       0        1        0\n",
       "2363       1        1        1\n",
       "142        0        0        0\n",
       "...      ...      ...      ...\n",
       "1118       1        1        1\n",
       "3572       0        0        0\n",
       "2482       0        0        0\n",
       "643        0        0        0\n",
       "299        0        0        0\n",
       "\n",
       "[800 rows x 3 columns]"
      ]
     },
     "execution_count": 42,
     "metadata": {},
     "output_type": "execute_result"
    }
   ],
   "source": [
    "# Se unen los valores de predicciones de ambos modelos junto con los valores reales:\n",
    "\n",
    "# Se crea una nueva variables en la que se guardan los valores de predicción de Regresión Logística:\n",
    "predicciones = predicciones_lr\n",
    "\n",
    "# Se cambia el nombre de la columna 'y_pred' por 'y_lr':\n",
    "predicciones.rename(columns = {'y_pred': 'pred_lr'}, inplace = True)\n",
    "\n",
    "# Se agrega la columna de predicciones del modelo de Bosque Aleatorio:\n",
    "predicciones['pred_rf'] = predicciones_rf['y_pred']\n",
    "\n",
    "# Se muestran las predicciones de ambos modelos junto con las cancelaciones reales:\n",
    "print('Las cancelaciones reales y las predichas por los modelos de Regresión Logística y Bosque Aleatorio, son:\\n')\n",
    "predicciones"
   ]
  },
  {
   "cell_type": "markdown",
   "metadata": {},
   "source": [
    "### Comparar las métricas para los de los modelos de aprendizaje utilizados:"
   ]
  },
  {
   "cell_type": "code",
   "execution_count": 28,
   "metadata": {},
   "outputs": [
    {
     "name": "stdout",
     "output_type": "stream",
     "text": [
      "La media de los valores de prueba es: 0.25\n",
      "La media del pronostico empleando el método de regresión logística es: 0.29\n",
      "La media del pronostico empleando el método de bosque aleatorio es: 0.23 \n",
      "\n",
      "Métricas para el pronóstico realizado con el método de regresión logística:\n",
      "Exactitud: 0.91\n",
      "Precisión: 0.77\n",
      "Recall: 0.91 \n",
      "\n",
      "Métricas para el pronóstico realizado con el método de bosque aleatorio:\n",
      "Exactitud: 0.91\n",
      "Precisión: 0.84\n",
      "Recall: 0.79\n"
     ]
    }
   ],
   "source": [
    "# Valor medio de la variable objetivo en el conjunto de prueba:\n",
    "print('La media de los valores de prueba es: {:.2f}'.format(predicciones['y_real'].mean()))\n",
    "print('La media del pronostico empleando el método de regresión logística es: {:.2f}'.format(predicciones['pred_lr'].mean()))\n",
    "print('La media del pronostico empleando el método de bosque aleatorio es: {:.2f}'.format(predicciones['pred_rf'].mean()),'\\n')\n",
    "\n",
    "# Se imprimen las métricas principales:\n",
    "print('Métricas para el pronóstico realizado con el método de regresión logística:')\n",
    "print('Exactitud: {:.2f}'.format(accuracy_score(predicciones['y_real'], predicciones['pred_lr'])))\n",
    "print('Precisión: {:.2f}'.format(precision_score(predicciones['y_real'], predicciones['pred_lr'])))\n",
    "print('Recall: {:.2f}'.format(recall_score(predicciones['y_real'], predicciones['pred_lr'])),'\\n')\n",
    "\n",
    "print('Métricas para el pronóstico realizado con el método de bosque aleatorio:')\n",
    "print('Exactitud: {:.2f}'.format(accuracy_score(predicciones['y_real'], predicciones['pred_rf'])))\n",
    "print('Precisión: {:.2f}'.format(precision_score(predicciones['y_real'], predicciones['pred_rf'])))\n",
    "print('Recall: {:.2f}'.format(recall_score(predicciones['y_real'], predicciones['pred_rf'])))"
   ]
  },
  {
   "cell_type": "markdown",
   "metadata": {},
   "source": [
    "**Conclusiones:**\n",
    "\n",
    "* El modelo de aprendizaje de **Regresión Logística** ha pronosticado un **29% de cancelaciones**, el modelo de aprendizaje del método **Árbol Aleatorio** pronosticó un **23% de cancelaciones** de los contratos y los **valores de prueba** tuvieron **25% de cancelaciones** de contratos; esto quiere decir que el porcentaje de cancelaciones pronosticado con el método **Regresión Logística** arrojó un valor **4 puntos porcentuales** por encima del valor real mientras que el método de aprendizaje **Bosque Aleatorio** arrojó un valor de **2 puntos porcentuales** por debajo del valor real.\n",
    "\n",
    "* La **exactitud** (accuracy) de ambos modelos es igual (**91%**), esto quiere decir que el **91%** de los pronósticos se cumplieron en ambos modelos.\n",
    "\n",
    "* La **precisión** del modelo de **Árbol aleatorio** es de **84%**, siendo esta mayor que la del modelo **Regresión Logística** la cual es del **77%**, esto quiere decir que **de cada 100 personas que los modelos predijeron que cancelarían, realmente cancelaron 84 y 77 clientes para cada modelo respectivamente** .\n",
    "\n",
    "* Por su parte, la **exhaustividad (recall)** es mayor en el modelo **Regresión Logística** con un valor de **91%**, mientras que el modelo de aprendizaje **Árbol Aelatorio** fué de **79%**; esto es, **de cada 100 personas que cancelaron en los datos de prueba, 91 y 79 fueron predichas por el modelo de Regresión Logística y el de Árbol Aleatorio respectivamente** lo cual es una diferencia bastante grande entre ambos modelos.\n",
    "\n",
    "* Ambos modelos tienen sus ventajas y sus desventajas, pero el modelo de **Regresión Logística** obtuvo en 2 métricas puntuaciones mayores al 90%, mientras que el modelo de de **Bosque Aleatorio** solo obtubvo en una métrica una puntuación mayor al 90%."
   ]
  },
  {
   "cell_type": "markdown",
   "metadata": {},
   "source": [
    "## Paso 4: Crear clústeres de usuarios:"
   ]
  },
  {
   "cell_type": "markdown",
   "metadata": {},
   "source": [
    "Deja de lado la columna con datos sobre la cancelación e identifica los clústeres de objetos (usuarios)."
   ]
  },
  {
   "cell_type": "markdown",
   "metadata": {},
   "source": [
    "### Estandarizar los datos:"
   ]
  },
  {
   "cell_type": "code",
   "execution_count": 29,
   "metadata": {},
   "outputs": [],
   "source": [
    "# estandariza los datos\n",
    "sc = StandardScaler()\n",
    "x_sc = sc.fit_transform(X)"
   ]
  },
  {
   "cell_type": "markdown",
   "metadata": {},
   "source": [
    "### Utiliza la función linkage() para crear una matriz de distancias basada en la matriz de características estandarizada y trazar un dendrograma."
   ]
  },
  {
   "cell_type": "markdown",
   "metadata": {},
   "source": [
    "Nota: ¡renderizar el dendrograma puede llevar tiempo! Utiliza el gráfico resultante para estimar el número de clústeres que puedes destacar."
   ]
  },
  {
   "cell_type": "code",
   "execution_count": 30,
   "metadata": {},
   "outputs": [
    {
     "data": {
      "image/png": "[encoded data removed]",
      "text/plain": [
       "<Figure size 1500x1000 with 1 Axes>"
      ]
     },
     "metadata": {},
     "output_type": "display_data"
    }
   ],
   "source": [
    "# Se halla la vinculación entre los datos:\n",
    "linked = linkage(x_sc, method = 'ward')\n",
    "# La variable linked almacena la tabla con los haces de objetos vinculados.\n",
    "\n",
    "# Se traza el dendograma para visualizar la vinculación entre los datos:\n",
    "\n",
    "# Se dimensiona el dendrograma:\n",
    "plt.figure(figsize=(15, 10))  \n",
    "\n",
    "# Se pasan los datos para crear el dendrograma:\n",
    "dendrogram(linked, orientation='top')\n",
    "\n",
    "# Se asginga el título al dendrograma:\n",
    "plt.title('Agrupación jerárquica de los clientes')\n",
    "\n",
    "# Se rotan las etiquetas de los valores del eje \"x\", aunque como son 800 datos no se verán claramente:\n",
    "plt.xticks(rotation=90, ha='right')\n",
    "\n",
    "# Se muestra el dendrograma:\n",
    "plt.show()"
   ]
  },
  {
   "cell_type": "markdown",
   "metadata": {},
   "source": [
    "### Entrena el modelo de clustering con el algortimo K-means y predice los clústeres de clientes."
   ]
  },
  {
   "cell_type": "markdown",
   "metadata": {},
   "source": [
    "Deja que el número de clústeres sea n=5 (el número óptimo de clústeres sugerido (4) corresponde a los cuatro colores diferentes del gráfico) para que sea más sencillo comparar los resultados con los del resto del estudiantado. Sin embargo, en la vida real, nadie te dará tales pistas, así que tendrás que decidir basándote en el gráfico del paso anterior."
   ]
  },
  {
   "cell_type": "code",
   "execution_count": 31,
   "metadata": {},
   "outputs": [],
   "source": [
    "# Se define el modelo k_means con 4 clústeres:\n",
    "km = KMeans(n_clusters = 4, random_state = 0) # Se han seleccionado 4 clústeres debido a que el dendrograma nos separó 4 grupos \n",
    "\n",
    "# Se predicen los clústeres para las observaciones (el algoritmo les asigna un número de 0 a 3)\n",
    "labels = km.fit_predict(x_sc)\n",
    "\n",
    "# Almacenar etiquetas de clúster en el campo de nuestro conjunto de datos\n",
    "df['cluster'] = labels"
   ]
  },
  {
   "cell_type": "markdown",
   "metadata": {},
   "source": [
    "### Mira los valores medios de característica para los clústeres.¿Hay algo que te llame la atención?"
   ]
  },
  {
   "cell_type": "code",
   "execution_count": 43,
   "metadata": {},
   "outputs": [
    {
     "name": "stdout",
     "output_type": "stream",
     "text": [
      "Promedio para cada característica por cada cluster:\n",
      "\n"
     ]
    },
    {
     "data": {
      "text/html": [
       "<div>\n",
       "<style scoped>\n",
       "    .dataframe tbody tr th:only-of-type {\n",
       "        vertical-align: middle;\n",
       "    }\n",
       "\n",
       "    .dataframe tbody tr th {\n",
       "        vertical-align: top;\n",
       "    }\n",
       "\n",
       "    .dataframe thead th {\n",
       "        text-align: right;\n",
       "    }\n",
       "</style>\n",
       "<table border=\"1\" class=\"dataframe\">\n",
       "  <thead>\n",
       "    <tr style=\"text-align: right;\">\n",
       "      <th></th>\n",
       "      <th>gender</th>\n",
       "      <th>near_location</th>\n",
       "      <th>partner</th>\n",
       "      <th>promo_friends</th>\n",
       "      <th>phone</th>\n",
       "      <th>contract_period</th>\n",
       "      <th>group_visits</th>\n",
       "      <th>age</th>\n",
       "      <th>avg_additional_charges_total</th>\n",
       "      <th>month_to_end_contract</th>\n",
       "      <th>lifetime</th>\n",
       "      <th>avg_class_frequency_total</th>\n",
       "      <th>avg_class_frequency_current_month</th>\n",
       "      <th>churn</th>\n",
       "    </tr>\n",
       "    <tr>\n",
       "      <th>cluster</th>\n",
       "      <th></th>\n",
       "      <th></th>\n",
       "      <th></th>\n",
       "      <th></th>\n",
       "      <th></th>\n",
       "      <th></th>\n",
       "      <th></th>\n",
       "      <th></th>\n",
       "      <th></th>\n",
       "      <th></th>\n",
       "      <th></th>\n",
       "      <th></th>\n",
       "      <th></th>\n",
       "      <th></th>\n",
       "    </tr>\n",
       "  </thead>\n",
       "  <tbody>\n",
       "    <tr>\n",
       "      <th>0</th>\n",
       "      <td>0.523316</td>\n",
       "      <td>0.862694</td>\n",
       "      <td>0.471503</td>\n",
       "      <td>0.305699</td>\n",
       "      <td>0.0</td>\n",
       "      <td>4.777202</td>\n",
       "      <td>0.427461</td>\n",
       "      <td>29.297927</td>\n",
       "      <td>144.208179</td>\n",
       "      <td>4.466321</td>\n",
       "      <td>3.940415</td>\n",
       "      <td>1.854211</td>\n",
       "      <td>1.723967</td>\n",
       "      <td>0.266839</td>\n",
       "    </tr>\n",
       "    <tr>\n",
       "      <th>1</th>\n",
       "      <td>0.486815</td>\n",
       "      <td>0.759297</td>\n",
       "      <td>0.381339</td>\n",
       "      <td>0.190669</td>\n",
       "      <td>1.0</td>\n",
       "      <td>1.899256</td>\n",
       "      <td>0.292765</td>\n",
       "      <td>28.048005</td>\n",
       "      <td>129.704525</td>\n",
       "      <td>1.805274</td>\n",
       "      <td>2.235294</td>\n",
       "      <td>1.204610</td>\n",
       "      <td>0.951590</td>\n",
       "      <td>0.559838</td>\n",
       "    </tr>\n",
       "    <tr>\n",
       "      <th>2</th>\n",
       "      <td>0.544939</td>\n",
       "      <td>0.861873</td>\n",
       "      <td>0.343425</td>\n",
       "      <td>0.205298</td>\n",
       "      <td>1.0</td>\n",
       "      <td>2.403027</td>\n",
       "      <td>0.447493</td>\n",
       "      <td>29.989593</td>\n",
       "      <td>157.358764</td>\n",
       "      <td>2.239357</td>\n",
       "      <td>4.704825</td>\n",
       "      <td>2.724796</td>\n",
       "      <td>2.711132</td>\n",
       "      <td>0.092715</td>\n",
       "    </tr>\n",
       "    <tr>\n",
       "      <th>3</th>\n",
       "      <td>0.503711</td>\n",
       "      <td>0.940631</td>\n",
       "      <td>0.777365</td>\n",
       "      <td>0.572356</td>\n",
       "      <td>1.0</td>\n",
       "      <td>10.697588</td>\n",
       "      <td>0.536178</td>\n",
       "      <td>29.912801</td>\n",
       "      <td>161.363032</td>\n",
       "      <td>9.768089</td>\n",
       "      <td>4.730056</td>\n",
       "      <td>1.983884</td>\n",
       "      <td>1.975592</td>\n",
       "      <td>0.029685</td>\n",
       "    </tr>\n",
       "  </tbody>\n",
       "</table>\n",
       "</div>"
      ],
      "text/plain": [
       "           gender  near_location   partner  promo_friends  phone  \\\n",
       "cluster                                                            \n",
       "0        0.523316       0.862694  0.471503       0.305699    0.0   \n",
       "1        0.486815       0.759297  0.381339       0.190669    1.0   \n",
       "2        0.544939       0.861873  0.343425       0.205298    1.0   \n",
       "3        0.503711       0.940631  0.777365       0.572356    1.0   \n",
       "\n",
       "         contract_period  group_visits        age  \\\n",
       "cluster                                             \n",
       "0               4.777202      0.427461  29.297927   \n",
       "1               1.899256      0.292765  28.048005   \n",
       "2               2.403027      0.447493  29.989593   \n",
       "3              10.697588      0.536178  29.912801   \n",
       "\n",
       "         avg_additional_charges_total  month_to_end_contract  lifetime  \\\n",
       "cluster                                                                  \n",
       "0                          144.208179               4.466321  3.940415   \n",
       "1                          129.704525               1.805274  2.235294   \n",
       "2                          157.358764               2.239357  4.704825   \n",
       "3                          161.363032               9.768089  4.730056   \n",
       "\n",
       "         avg_class_frequency_total  avg_class_frequency_current_month  \\\n",
       "cluster                                                                 \n",
       "0                         1.854211                           1.723967   \n",
       "1                         1.204610                           0.951590   \n",
       "2                         2.724796                           2.711132   \n",
       "3                         1.983884                           1.975592   \n",
       "\n",
       "            churn  \n",
       "cluster            \n",
       "0        0.266839  \n",
       "1        0.559838  \n",
       "2        0.092715  \n",
       "3        0.029685  "
      ]
     },
     "execution_count": 43,
     "metadata": {},
     "output_type": "execute_result"
    }
   ],
   "source": [
    "# Se obtienen las estadísticas de los valores medios de las características por clúster\n",
    "\n",
    "print('Promedio para cada característica por cada cluster:\\n')\n",
    "df.groupby(['cluster']).mean()"
   ]
  },
  {
   "cell_type": "markdown",
   "metadata": {},
   "source": [
    "**Conclusiones:**\n",
    "\n",
    "* En los clústeres **0** y **1** las tasas  de cancelación son **26.68** y **55.98%** respectivamente, y en el segundo grupo de clústeres son los cluster **2** y **3** con tasa de cancelación del **9.27** y **2.97%** respectivamente.\n",
    "\n",
    "* En el primer grupo de clústeres el **'avg_additional_charges_total'** fué de **USD 144.21** y **USD 129,70** para los clústeres **0** y **1** respectivamente, mientras que el segundo grupo de clústeres, la media fué de **USD 157.36** y **USD 161.36** respectivamente.\n",
    "\n",
    "* Los usuarios del primer clúster tienen un promedio de asistencia (**'avg_class_frequency_current_month'**) inferior a 2 veces por semana en el último mes (**1.72** y **0.95** para el cluster **0** y **1** respectivamente), mientras que los usuarios del segundo grupo de clústeres asiste en promedio más de 2 veces por semana o más (**2.71** y **1.98** para el cluster **2** y **3** respectivamente).\n",
    "\n",
    "* El promedio de asistencia semanal del último mes (**'avg_class_frequency_current_month'**) disminuye de **1.85** a **1.72** veces por semana respecto al promedio de todo el tiempo de vida del cliente (**'avg_class_frequency_total'**) para el cluster **0**, de **1.20** a **0.95** para los clientes del cluster **1** lo cual representa una reducción significativa si se compara con el otro grupo de clústeres en los cuales las medias de asistencias de los clientes se mantienen casi iguales **2.72** a **2.71** para el cluster **2**, y de **1.98**\ta **1.97** para el cluster **3**.\n",
    "\n",
    "* El promedio de vida de los clientes de los clústeres **0** y **1** son **3.94** y **2.23** meses, mientras que los clientes de los clústeres **2** y **3** tienen un promedio de **4.70** y **4.73** meses de vida como clientes."
   ]
  },
  {
   "cell_type": "markdown",
   "metadata": {},
   "source": [
    "### Traza distribuciones de características para los clústeres. ¿Notas algo?"
   ]
  },
  {
   "cell_type": "markdown",
   "metadata": {},
   "source": [
    "#### Gráficas de las variables binarias:"
   ]
  },
  {
   "cell_type": "code",
   "execution_count": 33,
   "metadata": {},
   "outputs": [
    {
     "data": {
      "image/png": "[encoded data removed]",
      "text/plain": [
       "<Figure size 1500x900 with 6 Axes>"
      ]
     },
     "metadata": {},
     "output_type": "display_data"
    }
   ],
   "source": [
    "# Se seleccionan las características binarias de los clientes:\n",
    "columns = ['gender', 'near_location', 'partner', 'promo_friends', 'phone', 'group_visits']\n",
    "\n",
    "# Se distribuyen las gráficas de las características binarias:\n",
    "fig, axs = plt.subplots(nrows=2, ncols=3, figsize=(15,9))\n",
    "\n",
    "# Bucle para generar cada gráfica:\n",
    "for i, ax in enumerate(axs.flat):\n",
    "    if i < len(columns):\n",
    "        sns.barplot(x='cluster', y=columns[i], data=df, hue='churn', ax=ax)\n",
    "        ax.legend([], [], frameon=False)\n",
    "        ax.set_xlabel('')\n",
    "        ax.set_ylabel('')\n",
    "        ax.set_title(f'{columns[i]}', fontsize=14)\n",
    "    else:\n",
    "        ax.axis('off')\n",
    "\n",
    "# Obtener los identificadores y etiquetas de la leyenda:\n",
    "handles, labels = plt.gca().get_legend_handles_labels()\n",
    "\n",
    "# Personalizar la leyenda:\n",
    "plt.legend(handles, labels, title='churn', loc='upper center', bbox_to_anchor=(1, -0.1))\n",
    "\n",
    "fig.suptitle('Relación entre el cluster y las características binarias', fontsize=16)\n",
    "fig.subplots_adjust(top=0.88)\n",
    "plt.show()"
   ]
  },
  {
   "cell_type": "markdown",
   "metadata": {},
   "source": [
    "**Conclusión:**\n",
    "\n",
    "* Al comparar las características binarias de los 4 clústeres, no se observan diferencias conclusiones que permitan predecir el comprotamiento de la variable objetivo (cancelación de los clientes), razón por la cual no se puede definir a simple vista cuales clientes puedan cancelar según las características binarias.\n",
    "\n",
    "* En algunas características se pueden observar diferencias entre un cluster y otro, como lo son **'partner'**, **'promo_friends'**, y **'group_visits'**, pero más allá de las diferencias entre un cluster y el otro, no se puede observar un elemento distintivo de la característica dentro de un mismo cluster que permita predecir si un cliente va a cancelar o no, ya que los que cancelan tienen aproximadamente el mismo porcentaje de los que se quedan dentro del mismo cluster."
   ]
  },
  {
   "cell_type": "markdown",
   "metadata": {},
   "source": [
    "#### Gráficas de las variables continuas:"
   ]
  },
  {
   "cell_type": "code",
   "execution_count": 34,
   "metadata": {},
   "outputs": [
    {
     "data": {
      "image/png": "[encoded data removed]",
      "text/plain": [
       "<Figure size 1000x500 with 1 Axes>"
      ]
     },
     "metadata": {},
     "output_type": "display_data"
    },
    {
     "data": {
      "image/png": "[encoded data removed]",
      "text/plain": [
       "<Figure size 1000x500 with 1 Axes>"
      ]
     },
     "metadata": {},
     "output_type": "display_data"
    },
    {
     "data": {
      "image/png": "[encoded data removed]",
      "text/plain": [
       "<Figure size 1000x500 with 1 Axes>"
      ]
     },
     "metadata": {},
     "output_type": "display_data"
    }
   ],
   "source": [
    "def graphic_per_feature(df, feature):\n",
    "    handles_cluster = [0, 1, 2, 3]\n",
    "    cluster0 = df[df['cluster'] == 0].groupby(feature)[feature].count()\n",
    "    cluster1 = df[df['cluster'] == 1].groupby(feature)[feature].count()\n",
    "    cluster2 = df[df['cluster'] == 2].groupby(feature)[feature].count()\n",
    "    cluster3 = df[df['cluster'] == 3].groupby(feature)[feature].count()\n",
    "    data = pd.concat([cluster0, cluster1, cluster2, cluster3], axis=1)\n",
    "    data.columns = handles_cluster\n",
    "    data.plot(kind = 'bar',\n",
    "              edgecolor = 'black',\n",
    "              figsize=[10,5],\n",
    "              color=['orange', 'red', 'blue', 'green'])\n",
    "    plt.show()\n",
    "    return\n",
    "\n",
    "# Se seleccionan las características continuas de los clientes:\n",
    "columns = ['age', 'month_to_end_contract', 'lifetime']\n",
    "for x in columns:\n",
    "    graphic_per_feature(df = df, feature = x)"
   ]
  },
  {
   "cell_type": "markdown",
   "metadata": {},
   "source": [
    "**Conclusiones:**\n",
    "\n",
    "* La distribución de la edad es similar para los 4 cluster, con pequeñas diferencias en las medias de los clústeres.\n",
    "\n",
    "* A la mayoría de clientes de los clústeres **0**, **1** y **3** les resta **1 mes para finalizar el contrato** y a algunos pocos les restan menos de 6 meses para finalizar el contrato, el resto de valores tienen frecuencias muy bajas.\n",
    "\n",
    "* A la mayoría de clientes del **cluster 2** les restan **6 meses o mas** para finalizar el contrato.\n",
    "\n",
    "* La mayoría de los clientes de los **4 clústeres** tienen **menos de 8 meses** de haber asistido por primera vez al gimnasio."
   ]
  },
  {
   "cell_type": "markdown",
   "metadata": {},
   "source": [
    "Ya que las caraterísticas **'avg_additional_charges_total'**, **'avg_class_frequency_total'** y **'avg_class_frequency_current_month'** tienen decimales flotantes en sus valores, no se logra ver correctamente un gráfico de barras para estas características por lo que podrían tenerse tantas barras como datos hay y la longitud de estas barras serían muy pequeñas; del mismo modo, los histogramas no se pueden ver claramente debido a que unos colores cubren a los otros y no se logran diferenciar claramente los valores de un cluster y otro.\n",
    "\n",
    "Debido a lo antes mencionado, se catogorizan los valores de estas características para que de esta forma se pueda realizar un gráfico que pueda ser claramente visible cada barra."
   ]
  },
  {
   "cell_type": "code",
   "execution_count": 35,
   "metadata": {},
   "outputs": [],
   "source": [
    "# Se define una función para categorizar los valores de las características tipo float:\n",
    "def categorize_data(data, num_categories):\n",
    "    min_val = np.min(data)\n",
    "    max_val = np.max(data)\n",
    "    category_width = (max_val - min_val) / num_categories\n",
    "    categories = np.floor((data - min_val) / category_width).astype(int)\n",
    "    categories = np.clip(categories, 0, num_categories - 1)  # Ensure categories are within bounds\n",
    "    categories = round(min_val + category_width * (categories + .5), 2)\n",
    "    return categories\n",
    "\n",
    "# Se crea una copia de las características del tipo float y de los clústeres:\n",
    "filtred_df = df[['cluster', 'avg_additional_charges_total', 'avg_class_frequency_total',\n",
    "                 'avg_class_frequency_current_month']].copy()\n",
    "\n",
    "# Se agregan las columnas de categorización de los valores de las 3 carataerísticas float:\n",
    "filtred_df['avg_additional_charges_total_cat'] = categorize_data(filtred_df['avg_additional_charges_total'], 12)\n",
    "filtred_df['avg_class_frequency_total_bins_cat'] = categorize_data(filtred_df['avg_class_frequency_total'], 12)\n",
    "filtred_df['avg_class_frequency_current_month_cat'] = categorize_data(filtred_df['avg_class_frequency_current_month'], 12)"
   ]
  },
  {
   "cell_type": "markdown",
   "metadata": {},
   "source": [
    "**Se crean las gráficas de las carateríticas float:**"
   ]
  },
  {
   "cell_type": "code",
   "execution_count": 36,
   "metadata": {},
   "outputs": [
    {
     "data": {
      "image/png": "[encoded data removed]",
      "text/plain": [
       "<Figure size 1000x500 with 1 Axes>"
      ]
     },
     "metadata": {},
     "output_type": "display_data"
    },
    {
     "data": {
      "image/png": "[encoded data removed]",
      "text/plain": [
       "<Figure size 1000x500 with 1 Axes>"
      ]
     },
     "metadata": {},
     "output_type": "display_data"
    },
    {
     "data": {
      "image/png": "[encoded data removed]",
      "text/plain": [
       "<Figure size 1000x500 with 1 Axes>"
      ]
     },
     "metadata": {},
     "output_type": "display_data"
    }
   ],
   "source": [
    "# Se seleccionan las características:\n",
    "columns = ['avg_additional_charges_total_cat', 'avg_class_frequency_total_bins_cat', 'avg_class_frequency_current_month_cat']\n",
    "\n",
    "# Se crea un bucle para realizar las gráficas para cada característica:\n",
    "for x in columns:\n",
    "    graphic_per_feature(df = filtred_df, feature = x)"
   ]
  },
  {
   "cell_type": "markdown",
   "metadata": {},
   "source": [
    "**Conclusiones:**\n",
    "\n",
    "* No se pueden ver diferencias obvias en la distribución del gasto en otros servicios del último mes de los clientes para los diferentes clústeres.\n",
    "\n",
    "* La frecuencia con la que asisten los clientes para semanalmente en promedio tanto para el último mes como para el del tiempo de todo el historial del cliente es menor en el clúster 1, después en el clúster 0, luego en el clúster 2 y los que parecen acudir con más fecuencia son los clientes del clúster 3."
   ]
  },
  {
   "cell_type": "markdown",
   "metadata": {},
   "source": [
    "### Calcula la tasa de cancelación para cada clúster (utiliza el método groupby()). ¿Difieren en términos de tasa de cancelación? ¿Qué grupos son propensos a irse y cuáles son leales?"
   ]
  },
  {
   "cell_type": "markdown",
   "metadata": {},
   "source": [
    "Aunque ya se realizó y se mostró el cálculo previamente, se vuelve a presentar debido a la solicitud de éste punto."
   ]
  },
  {
   "cell_type": "code",
   "execution_count": 37,
   "metadata": {},
   "outputs": [
    {
     "data": {
      "text/html": [
       "<div>\n",
       "<style scoped>\n",
       "    .dataframe tbody tr th:only-of-type {\n",
       "        vertical-align: middle;\n",
       "    }\n",
       "\n",
       "    .dataframe tbody tr th {\n",
       "        vertical-align: top;\n",
       "    }\n",
       "\n",
       "    .dataframe thead th {\n",
       "        text-align: right;\n",
       "    }\n",
       "</style>\n",
       "<table border=\"1\" class=\"dataframe\">\n",
       "  <thead>\n",
       "    <tr style=\"text-align: right;\">\n",
       "      <th></th>\n",
       "      <th>gender</th>\n",
       "      <th>near_location</th>\n",
       "      <th>partner</th>\n",
       "      <th>promo_friends</th>\n",
       "      <th>phone</th>\n",
       "      <th>contract_period</th>\n",
       "      <th>group_visits</th>\n",
       "      <th>age</th>\n",
       "      <th>avg_additional_charges_total</th>\n",
       "      <th>month_to_end_contract</th>\n",
       "      <th>lifetime</th>\n",
       "      <th>avg_class_frequency_total</th>\n",
       "      <th>avg_class_frequency_current_month</th>\n",
       "      <th>churn</th>\n",
       "    </tr>\n",
       "    <tr>\n",
       "      <th>cluster</th>\n",
       "      <th></th>\n",
       "      <th></th>\n",
       "      <th></th>\n",
       "      <th></th>\n",
       "      <th></th>\n",
       "      <th></th>\n",
       "      <th></th>\n",
       "      <th></th>\n",
       "      <th></th>\n",
       "      <th></th>\n",
       "      <th></th>\n",
       "      <th></th>\n",
       "      <th></th>\n",
       "      <th></th>\n",
       "    </tr>\n",
       "  </thead>\n",
       "  <tbody>\n",
       "    <tr>\n",
       "      <th>0</th>\n",
       "      <td>0.523316</td>\n",
       "      <td>0.862694</td>\n",
       "      <td>0.471503</td>\n",
       "      <td>0.305699</td>\n",
       "      <td>0.0</td>\n",
       "      <td>4.777202</td>\n",
       "      <td>0.427461</td>\n",
       "      <td>29.297927</td>\n",
       "      <td>144.208179</td>\n",
       "      <td>4.466321</td>\n",
       "      <td>3.940415</td>\n",
       "      <td>1.854211</td>\n",
       "      <td>1.723967</td>\n",
       "      <td>0.266839</td>\n",
       "    </tr>\n",
       "    <tr>\n",
       "      <th>1</th>\n",
       "      <td>0.486815</td>\n",
       "      <td>0.759297</td>\n",
       "      <td>0.381339</td>\n",
       "      <td>0.190669</td>\n",
       "      <td>1.0</td>\n",
       "      <td>1.899256</td>\n",
       "      <td>0.292765</td>\n",
       "      <td>28.048005</td>\n",
       "      <td>129.704525</td>\n",
       "      <td>1.805274</td>\n",
       "      <td>2.235294</td>\n",
       "      <td>1.204610</td>\n",
       "      <td>0.951590</td>\n",
       "      <td>0.559838</td>\n",
       "    </tr>\n",
       "    <tr>\n",
       "      <th>2</th>\n",
       "      <td>0.544939</td>\n",
       "      <td>0.861873</td>\n",
       "      <td>0.343425</td>\n",
       "      <td>0.205298</td>\n",
       "      <td>1.0</td>\n",
       "      <td>2.403027</td>\n",
       "      <td>0.447493</td>\n",
       "      <td>29.989593</td>\n",
       "      <td>157.358764</td>\n",
       "      <td>2.239357</td>\n",
       "      <td>4.704825</td>\n",
       "      <td>2.724796</td>\n",
       "      <td>2.711132</td>\n",
       "      <td>0.092715</td>\n",
       "    </tr>\n",
       "    <tr>\n",
       "      <th>3</th>\n",
       "      <td>0.503711</td>\n",
       "      <td>0.940631</td>\n",
       "      <td>0.777365</td>\n",
       "      <td>0.572356</td>\n",
       "      <td>1.0</td>\n",
       "      <td>10.697588</td>\n",
       "      <td>0.536178</td>\n",
       "      <td>29.912801</td>\n",
       "      <td>161.363032</td>\n",
       "      <td>9.768089</td>\n",
       "      <td>4.730056</td>\n",
       "      <td>1.983884</td>\n",
       "      <td>1.975592</td>\n",
       "      <td>0.029685</td>\n",
       "    </tr>\n",
       "  </tbody>\n",
       "</table>\n",
       "</div>"
      ],
      "text/plain": [
       "           gender  near_location   partner  promo_friends  phone  \\\n",
       "cluster                                                            \n",
       "0        0.523316       0.862694  0.471503       0.305699    0.0   \n",
       "1        0.486815       0.759297  0.381339       0.190669    1.0   \n",
       "2        0.544939       0.861873  0.343425       0.205298    1.0   \n",
       "3        0.503711       0.940631  0.777365       0.572356    1.0   \n",
       "\n",
       "         contract_period  group_visits        age  \\\n",
       "cluster                                             \n",
       "0               4.777202      0.427461  29.297927   \n",
       "1               1.899256      0.292765  28.048005   \n",
       "2               2.403027      0.447493  29.989593   \n",
       "3              10.697588      0.536178  29.912801   \n",
       "\n",
       "         avg_additional_charges_total  month_to_end_contract  lifetime  \\\n",
       "cluster                                                                  \n",
       "0                          144.208179               4.466321  3.940415   \n",
       "1                          129.704525               1.805274  2.235294   \n",
       "2                          157.358764               2.239357  4.704825   \n",
       "3                          161.363032               9.768089  4.730056   \n",
       "\n",
       "         avg_class_frequency_total  avg_class_frequency_current_month  \\\n",
       "cluster                                                                 \n",
       "0                         1.854211                           1.723967   \n",
       "1                         1.204610                           0.951590   \n",
       "2                         2.724796                           2.711132   \n",
       "3                         1.983884                           1.975592   \n",
       "\n",
       "            churn  \n",
       "cluster            \n",
       "0        0.266839  \n",
       "1        0.559838  \n",
       "2        0.092715  \n",
       "3        0.029685  "
      ]
     },
     "execution_count": 37,
     "metadata": {},
     "output_type": "execute_result"
    }
   ],
   "source": [
    "# Se obtienen los valores medios de las características por clúster\n",
    "df.groupby(['cluster']).mean()"
   ]
  },
  {
   "cell_type": "markdown",
   "metadata": {},
   "source": [
    "**Conclusiones:**\n",
    "* De forma general, se puede decir que los clientes que tienen más probabilidad de cancelar (clústeres **0** y **1**) son aquellos que realizan menor gasto mensual promedio, que disminuyen significativamente la frecuencia de asistencia semanal en el último mes respecto al promedio de todo el tiempo de vida, los que asisten menos de 2 veces por semana y que tienen menos de 3 meses de vida.\n",
    "\n",
    "* Los clientes de los clústeres **2** y **3** son más propensos a quedarse."
   ]
  },
  {
   "cell_type": "markdown",
   "metadata": {},
   "source": [
    "**Conclusiones generales y recomendaciones:**\n",
    "\n",
    "* Para el caso de estudio, el aprendizaje supervisado presenta un error que es alto al ser evaluado con los valores de prueba para ambos modelos de aprendizaje.\n",
    "\n",
    "* Las características evaluadas tienen una correlación muy baja, excepto el promedio de asistencia semanal del último mes y el promedio de asistencia semanal de todo el tiempo de vida del cliente.\n",
    "\n",
    "* Por su parte, el aprendizaje no supervisado puede identificar diferencias entre grupos de estudio que a simple vista no se pueden ver o que con los modelos de aprendizaje supervisado nos hacen más dificil predecir comportamientos de ciertas variables cuya correlación es tan baja.\n",
    "\n",
    "* Debido a que los clientes de los clústeres **2** y **3** presentaban valores mayores en las siguientes características, se sugiere:\n",
    "    * Realizar publicidad orientada a aumentar la cantidad de contratos de 12 meses o en su defecto, contratos de 6 meses.\n",
    "\n",
    "    * Hacer publicidad para aumentar las ventas de otros productos y servicios.\n",
    "    \n",
    "    * Incentivar la asistencia de los clientes en el último mes de sus contratos.\n",
    "    \n",
    "Todas estas cosas, además de aumentar los ingresos de la empresa de forma directa, promueven el incremento de los ingresos de la compañia en el mediano plazo ya que pueden incentivar a que el tiempo de vida del cliente sea mayor."
   ]
  }
 ],
 "metadata": {
  "ExecuteTimeLog": [
   {
    "duration": 2679,
    "start_time": "2025-04-18T15:33:50.597Z"
   },
   {
    "duration": 628,
    "start_time": "2025-04-18T15:39:37.566Z"
   },
   {
    "duration": 83,
    "start_time": "2025-04-18T15:40:12.176Z"
   },
   {
    "duration": 17,
    "start_time": "2025-04-18T15:40:22.392Z"
   },
   {
    "duration": 17,
    "start_time": "2025-04-18T15:40:28.764Z"
   },
   {
    "duration": 159,
    "start_time": "2025-04-18T23:43:02.046Z"
   },
   {
    "duration": 2730,
    "start_time": "2025-04-18T23:43:16.609Z"
   },
   {
    "duration": 22,
    "start_time": "2025-04-18T23:43:22.214Z"
   },
   {
    "duration": 11,
    "start_time": "2025-04-18T23:43:22.798Z"
   },
   {
    "duration": 40,
    "start_time": "2025-04-18T23:43:24.473Z"
   },
   {
    "duration": 10,
    "start_time": "2025-04-18T23:43:43.105Z"
   },
   {
    "duration": 161,
    "start_time": "2025-04-19T12:25:53.378Z"
   },
   {
    "duration": 2746,
    "start_time": "2025-04-19T12:26:05.190Z"
   },
   {
    "duration": 18,
    "start_time": "2025-04-19T12:26:07.941Z"
   },
   {
    "duration": 10,
    "start_time": "2025-04-19T12:26:07.961Z"
   },
   {
    "duration": 45,
    "start_time": "2025-04-19T12:26:07.973Z"
   },
   {
    "duration": 6,
    "start_time": "2025-04-19T12:50:45.572Z"
   },
   {
    "duration": 17,
    "start_time": "2025-04-19T12:56:20.705Z"
   },
   {
    "duration": 11,
    "start_time": "2025-04-19T12:56:46.239Z"
   },
   {
    "duration": 14,
    "start_time": "2025-04-19T12:58:56.697Z"
   },
   {
    "duration": 7,
    "start_time": "2025-04-19T13:00:34.192Z"
   },
   {
    "duration": 41,
    "start_time": "2025-04-19T13:40:09.282Z"
   },
   {
    "duration": 10,
    "start_time": "2025-04-19T14:31:58.944Z"
   },
   {
    "duration": 6,
    "start_time": "2025-04-19T14:33:06.997Z"
   },
   {
    "duration": 6,
    "start_time": "2025-04-19T14:36:25.633Z"
   },
   {
    "duration": 11,
    "start_time": "2025-04-19T14:36:53.287Z"
   },
   {
    "duration": 9,
    "start_time": "2025-04-19T14:39:38.497Z"
   },
   {
    "duration": 11,
    "start_time": "2025-04-19T14:39:46.629Z"
   },
   {
    "duration": 9,
    "start_time": "2025-04-19T14:42:12.734Z"
   },
   {
    "duration": 10,
    "start_time": "2025-04-19T14:42:24.318Z"
   },
   {
    "duration": 164,
    "start_time": "2025-04-19T15:56:42.138Z"
   },
   {
    "duration": 2778,
    "start_time": "2025-04-19T15:56:51.188Z"
   },
   {
    "duration": 20,
    "start_time": "2025-04-19T15:56:53.969Z"
   },
   {
    "duration": 16,
    "start_time": "2025-04-19T15:56:53.991Z"
   },
   {
    "duration": 10,
    "start_time": "2025-04-19T15:56:54.008Z"
   },
   {
    "duration": 7,
    "start_time": "2025-04-19T15:56:54.022Z"
   },
   {
    "duration": 6,
    "start_time": "2025-04-19T15:56:54.031Z"
   },
   {
    "duration": 11,
    "start_time": "2025-04-19T15:56:54.038Z"
   },
   {
    "duration": 62,
    "start_time": "2025-04-19T15:56:54.050Z"
   },
   {
    "duration": 133,
    "start_time": "2025-04-19T15:56:54.114Z"
   },
   {
    "duration": 1265,
    "start_time": "2025-04-19T15:56:54.250Z"
   },
   {
    "duration": 911,
    "start_time": "2025-04-19T15:56:55.516Z"
   },
   {
    "duration": 0,
    "start_time": "2025-04-19T15:56:56.428Z"
   },
   {
    "duration": 0,
    "start_time": "2025-04-19T15:56:56.430Z"
   },
   {
    "duration": 1140,
    "start_time": "2025-04-19T15:58:27.450Z"
   },
   {
    "duration": 606,
    "start_time": "2025-04-19T15:59:30.649Z"
   },
   {
    "duration": 578,
    "start_time": "2025-04-19T16:01:28.809Z"
   },
   {
    "duration": 544,
    "start_time": "2025-04-19T16:02:48.006Z"
   },
   {
    "duration": 767,
    "start_time": "2025-04-19T16:02:52.826Z"
   },
   {
    "duration": 520,
    "start_time": "2025-04-19T16:06:32.103Z"
   },
   {
    "duration": 60,
    "start_time": "2025-04-19T16:09:59.562Z"
   },
   {
    "duration": 732,
    "start_time": "2025-04-19T16:10:17.994Z"
   },
   {
    "duration": 1142,
    "start_time": "2025-04-19T16:14:03.675Z"
   },
   {
    "duration": 996,
    "start_time": "2025-04-19T16:17:56.110Z"
   },
   {
    "duration": 1206,
    "start_time": "2025-04-19T16:18:37.003Z"
   },
   {
    "duration": 19,
    "start_time": "2025-04-19T16:20:41.186Z"
   },
   {
    "duration": 18,
    "start_time": "2025-04-19T16:20:51.922Z"
   },
   {
    "duration": 18,
    "start_time": "2025-04-19T16:21:04.832Z"
   },
   {
    "duration": 1246,
    "start_time": "2025-04-19T16:21:18.178Z"
   },
   {
    "duration": 1424,
    "start_time": "2025-04-19T16:22:48.956Z"
   },
   {
    "duration": 1170,
    "start_time": "2025-04-19T16:27:10.697Z"
   },
   {
    "duration": 1015,
    "start_time": "2025-04-19T16:27:29.407Z"
   },
   {
    "duration": 286,
    "start_time": "2025-04-19T16:51:51.323Z"
   },
   {
    "duration": 110,
    "start_time": "2025-04-19T16:52:43.915Z"
   },
   {
    "duration": 103,
    "start_time": "2025-04-19T16:53:01.455Z"
   },
   {
    "duration": 98,
    "start_time": "2025-04-19T16:54:12.672Z"
   },
   {
    "duration": 18,
    "start_time": "2025-04-19T16:54:30.412Z"
   },
   {
    "duration": 129,
    "start_time": "2025-04-19T16:54:38.408Z"
   },
   {
    "duration": 136,
    "start_time": "2025-04-19T16:54:52.060Z"
   },
   {
    "duration": 138,
    "start_time": "2025-04-19T16:56:00.964Z"
   },
   {
    "duration": 78,
    "start_time": "2025-04-19T16:59:14.656Z"
   },
   {
    "duration": 12,
    "start_time": "2025-04-19T16:59:31.936Z"
   },
   {
    "duration": 131,
    "start_time": "2025-04-19T17:00:05.566Z"
   },
   {
    "duration": 4,
    "start_time": "2025-04-19T17:00:16.953Z"
   },
   {
    "duration": 287,
    "start_time": "2025-04-19T17:03:48.529Z"
   },
   {
    "duration": 157,
    "start_time": "2025-04-19T17:04:12.845Z"
   },
   {
    "duration": 126,
    "start_time": "2025-04-19T17:04:29.413Z"
   },
   {
    "duration": 142,
    "start_time": "2025-04-19T17:05:49.625Z"
   },
   {
    "duration": 140,
    "start_time": "2025-04-19T17:07:21.332Z"
   },
   {
    "duration": 1134,
    "start_time": "2025-04-19T17:49:32.166Z"
   },
   {
    "duration": 1299,
    "start_time": "2025-04-19T17:49:48.906Z"
   },
   {
    "duration": 1143,
    "start_time": "2025-04-19T17:51:49.046Z"
   },
   {
    "duration": 131,
    "start_time": "2025-04-19T17:56:25.279Z"
   },
   {
    "duration": 131,
    "start_time": "2025-04-19T17:58:29.419Z"
   },
   {
    "duration": 1055,
    "start_time": "2025-04-19T18:02:37.800Z"
   },
   {
    "duration": 10,
    "start_time": "2025-04-19T18:02:38.857Z"
   },
   {
    "duration": 18,
    "start_time": "2025-04-19T18:02:38.869Z"
   },
   {
    "duration": 8,
    "start_time": "2025-04-19T18:02:38.890Z"
   },
   {
    "duration": 6,
    "start_time": "2025-04-19T18:02:38.900Z"
   },
   {
    "duration": 6,
    "start_time": "2025-04-19T18:02:38.908Z"
   },
   {
    "duration": 10,
    "start_time": "2025-04-19T18:02:38.915Z"
   },
   {
    "duration": 64,
    "start_time": "2025-04-19T18:02:38.927Z"
   },
   {
    "duration": 11,
    "start_time": "2025-04-19T18:02:38.994Z"
   },
   {
    "duration": 163,
    "start_time": "2025-04-19T18:02:39.008Z"
   },
   {
    "duration": 5,
    "start_time": "2025-04-19T18:02:39.173Z"
   },
   {
    "duration": 1152,
    "start_time": "2025-04-19T18:02:39.187Z"
   },
   {
    "duration": 1171,
    "start_time": "2025-04-19T18:02:40.341Z"
   },
   {
    "duration": 566,
    "start_time": "2025-04-19T18:02:41.514Z"
   },
   {
    "duration": 58,
    "start_time": "2025-04-19T18:02:42.082Z"
   },
   {
    "duration": 788,
    "start_time": "2025-04-19T18:02:42.142Z"
   },
   {
    "duration": 146,
    "start_time": "2025-04-19T18:06:00.956Z"
   },
   {
    "duration": 137,
    "start_time": "2025-04-19T18:06:37.543Z"
   },
   {
    "duration": 142,
    "start_time": "2025-04-19T18:06:50.062Z"
   },
   {
    "duration": 232,
    "start_time": "2025-04-19T18:07:18.671Z"
   },
   {
    "duration": 707,
    "start_time": "2025-04-19T18:07:33.246Z"
   },
   {
    "duration": 140,
    "start_time": "2025-04-19T18:07:39.148Z"
   },
   {
    "duration": 122,
    "start_time": "2025-04-19T18:08:58.592Z"
   },
   {
    "duration": 117,
    "start_time": "2025-04-19T18:09:47.351Z"
   },
   {
    "duration": 125,
    "start_time": "2025-04-19T18:10:02.791Z"
   },
   {
    "duration": 124,
    "start_time": "2025-04-19T18:10:26.135Z"
   },
   {
    "duration": 131,
    "start_time": "2025-04-19T18:10:40.503Z"
   },
   {
    "duration": 128,
    "start_time": "2025-04-19T18:11:42.755Z"
   },
   {
    "duration": 123,
    "start_time": "2025-04-19T18:13:14.656Z"
   },
   {
    "duration": 124,
    "start_time": "2025-04-19T18:14:53.464Z"
   },
   {
    "duration": 519,
    "start_time": "2025-04-19T18:16:36.420Z"
   },
   {
    "duration": 137,
    "start_time": "2025-04-19T18:16:43.863Z"
   },
   {
    "duration": 158,
    "start_time": "2025-04-19T18:17:07.372Z"
   },
   {
    "duration": 142,
    "start_time": "2025-04-19T18:21:01.356Z"
   },
   {
    "duration": 6,
    "start_time": "2025-04-19T18:23:44.924Z"
   },
   {
    "duration": 124,
    "start_time": "2025-04-19T18:23:54.391Z"
   },
   {
    "duration": 144,
    "start_time": "2025-04-19T18:24:26.989Z"
   },
   {
    "duration": 126,
    "start_time": "2025-04-19T18:25:39.040Z"
   },
   {
    "duration": 385,
    "start_time": "2025-04-19T18:29:39.183Z"
   },
   {
    "duration": 124,
    "start_time": "2025-04-19T18:29:59.244Z"
   },
   {
    "duration": 135,
    "start_time": "2025-04-19T18:31:18.495Z"
   },
   {
    "duration": 127,
    "start_time": "2025-04-19T18:31:41.794Z"
   },
   {
    "duration": 117,
    "start_time": "2025-04-19T18:32:31.918Z"
   },
   {
    "duration": 94,
    "start_time": "2025-04-19T18:33:03.580Z"
   },
   {
    "duration": 5,
    "start_time": "2025-04-19T18:33:32.417Z"
   },
   {
    "duration": 125,
    "start_time": "2025-04-19T18:33:55.615Z"
   },
   {
    "duration": 116,
    "start_time": "2025-04-19T18:34:06.640Z"
   },
   {
    "duration": 124,
    "start_time": "2025-04-19T18:34:39.592Z"
   },
   {
    "duration": 124,
    "start_time": "2025-04-19T18:40:32.945Z"
   },
   {
    "duration": 18,
    "start_time": "2025-04-19T18:40:51.781Z"
   },
   {
    "duration": 133,
    "start_time": "2025-04-19T18:41:07.974Z"
   },
   {
    "duration": 125,
    "start_time": "2025-04-19T18:41:23.434Z"
   },
   {
    "duration": 133,
    "start_time": "2025-04-19T18:43:00.693Z"
   },
   {
    "duration": 130,
    "start_time": "2025-04-19T18:43:18.040Z"
   },
   {
    "duration": 126,
    "start_time": "2025-04-19T18:43:30.385Z"
   },
   {
    "duration": 1168,
    "start_time": "2025-04-19T18:50:01.933Z"
   },
   {
    "duration": 1129,
    "start_time": "2025-04-19T18:50:48.173Z"
   },
   {
    "duration": 1300,
    "start_time": "2025-04-19T19:02:32.525Z"
   },
   {
    "duration": 556,
    "start_time": "2025-04-19T19:05:11.954Z"
   },
   {
    "duration": 773,
    "start_time": "2025-04-19T19:26:11.359Z"
   },
   {
    "duration": 14,
    "start_time": "2025-04-19T19:47:12.364Z"
   },
   {
    "duration": 6,
    "start_time": "2025-04-19T19:47:19.712Z"
   },
   {
    "duration": 8,
    "start_time": "2025-04-19T19:47:23.444Z"
   },
   {
    "duration": 218,
    "start_time": "2025-04-19T19:53:30.780Z"
   },
   {
    "duration": 7,
    "start_time": "2025-04-19T19:53:36.624Z"
   },
   {
    "duration": 114,
    "start_time": "2025-04-19T19:53:37.979Z"
   },
   {
    "duration": 172,
    "start_time": "2025-04-19T19:54:35.216Z"
   },
   {
    "duration": 19,
    "start_time": "2025-04-19T19:55:06.188Z"
   },
   {
    "duration": 8,
    "start_time": "2025-04-19T19:55:18.540Z"
   },
   {
    "duration": 15,
    "start_time": "2025-04-19T19:55:19.628Z"
   },
   {
    "duration": 9,
    "start_time": "2025-04-19T19:58:35.944Z"
   },
   {
    "duration": 6,
    "start_time": "2025-04-19T19:58:54.024Z"
   },
   {
    "duration": 4,
    "start_time": "2025-04-19T19:59:04.656Z"
   },
   {
    "duration": 6,
    "start_time": "2025-04-19T20:00:48.918Z"
   },
   {
    "duration": 4,
    "start_time": "2025-04-19T20:00:50.547Z"
   },
   {
    "duration": 12,
    "start_time": "2025-04-19T20:01:44.196Z"
   },
   {
    "duration": 12,
    "start_time": "2025-04-19T20:03:49.840Z"
   },
   {
    "duration": 8,
    "start_time": "2025-04-19T20:07:12.573Z"
   },
   {
    "duration": 15,
    "start_time": "2025-04-19T20:14:42.561Z"
   },
   {
    "duration": 489,
    "start_time": "2025-04-19T20:14:54.073Z"
   },
   {
    "duration": 16,
    "start_time": "2025-04-19T20:15:29.266Z"
   },
   {
    "duration": 5,
    "start_time": "2025-04-19T20:17:11.685Z"
   },
   {
    "duration": 1039,
    "start_time": "2025-04-19T20:17:18.901Z"
   },
   {
    "duration": 10,
    "start_time": "2025-04-19T20:17:19.942Z"
   },
   {
    "duration": 10,
    "start_time": "2025-04-19T20:17:19.954Z"
   },
   {
    "duration": 9,
    "start_time": "2025-04-19T20:17:19.967Z"
   },
   {
    "duration": 7,
    "start_time": "2025-04-19T20:17:19.987Z"
   },
   {
    "duration": 5,
    "start_time": "2025-04-19T20:17:19.995Z"
   },
   {
    "duration": 13,
    "start_time": "2025-04-19T20:17:20.002Z"
   },
   {
    "duration": 32,
    "start_time": "2025-04-19T20:17:20.017Z"
   },
   {
    "duration": 48,
    "start_time": "2025-04-19T20:17:20.051Z"
   },
   {
    "duration": 137,
    "start_time": "2025-04-19T20:17:20.101Z"
   },
   {
    "duration": 5,
    "start_time": "2025-04-19T20:17:20.240Z"
   },
   {
    "duration": 1192,
    "start_time": "2025-04-19T20:17:20.247Z"
   },
   {
    "duration": 1116,
    "start_time": "2025-04-19T20:17:21.441Z"
   },
   {
    "duration": 545,
    "start_time": "2025-04-19T20:17:22.560Z"
   },
   {
    "duration": 50,
    "start_time": "2025-04-19T20:17:23.107Z"
   },
   {
    "duration": 755,
    "start_time": "2025-04-19T20:17:23.159Z"
   },
   {
    "duration": 5,
    "start_time": "2025-04-19T20:17:23.917Z"
   },
   {
    "duration": 7,
    "start_time": "2025-04-19T20:17:23.924Z"
   },
   {
    "duration": 55,
    "start_time": "2025-04-19T20:17:23.934Z"
   },
   {
    "duration": 6,
    "start_time": "2025-04-19T20:17:23.992Z"
   },
   {
    "duration": 13,
    "start_time": "2025-04-19T20:17:23.999Z"
   },
   {
    "duration": 8,
    "start_time": "2025-04-19T20:17:24.088Z"
   },
   {
    "duration": 7,
    "start_time": "2025-04-19T20:17:24.098Z"
   },
   {
    "duration": 6,
    "start_time": "2025-04-19T20:21:26.578Z"
   },
   {
    "duration": 6,
    "start_time": "2025-04-19T20:21:43.477Z"
   },
   {
    "duration": 8,
    "start_time": "2025-04-19T20:23:22.603Z"
   },
   {
    "duration": 6,
    "start_time": "2025-04-19T20:23:25.507Z"
   },
   {
    "duration": 358,
    "start_time": "2025-04-19T20:28:52.734Z"
   },
   {
    "duration": 18,
    "start_time": "2025-04-19T20:29:09.370Z"
   },
   {
    "duration": 8,
    "start_time": "2025-04-19T20:29:52.158Z"
   },
   {
    "duration": 8,
    "start_time": "2025-04-19T20:32:52.362Z"
   },
   {
    "duration": 20,
    "start_time": "2025-04-19T20:38:26.350Z"
   },
   {
    "duration": 7,
    "start_time": "2025-04-19T20:38:39.140Z"
   },
   {
    "duration": 16,
    "start_time": "2025-04-19T20:38:48.998Z"
   },
   {
    "duration": 7,
    "start_time": "2025-04-19T20:39:09.024Z"
   },
   {
    "duration": 5,
    "start_time": "2025-04-19T20:39:14.326Z"
   },
   {
    "duration": 4,
    "start_time": "2025-04-19T20:39:30.427Z"
   },
   {
    "duration": 4,
    "start_time": "2025-04-19T20:40:59.044Z"
   },
   {
    "duration": 4,
    "start_time": "2025-04-19T20:41:05.070Z"
   },
   {
    "duration": 135,
    "start_time": "2025-04-19T20:41:10.379Z"
   },
   {
    "duration": 11,
    "start_time": "2025-04-19T20:43:37.887Z"
   },
   {
    "duration": 11,
    "start_time": "2025-04-19T20:51:57.938Z"
   },
   {
    "duration": 8,
    "start_time": "2025-04-19T20:53:11.441Z"
   },
   {
    "duration": 10,
    "start_time": "2025-04-19T20:54:32.249Z"
   },
   {
    "duration": 8,
    "start_time": "2025-04-19T20:56:02.873Z"
   },
   {
    "duration": 9,
    "start_time": "2025-04-19T20:56:04.102Z"
   },
   {
    "duration": 14,
    "start_time": "2025-04-19T20:59:55.447Z"
   },
   {
    "duration": 11,
    "start_time": "2025-04-19T21:00:06.999Z"
   },
   {
    "duration": 12,
    "start_time": "2025-04-19T21:13:21.472Z"
   },
   {
    "duration": 11,
    "start_time": "2025-04-19T21:13:50.699Z"
   },
   {
    "duration": 10,
    "start_time": "2025-04-19T21:22:56.221Z"
   },
   {
    "duration": 10,
    "start_time": "2025-04-19T21:23:42.875Z"
   },
   {
    "duration": 11,
    "start_time": "2025-04-19T21:24:02.944Z"
   },
   {
    "duration": 13,
    "start_time": "2025-04-19T22:00:08.017Z"
   },
   {
    "duration": 10,
    "start_time": "2025-04-19T22:03:28.663Z"
   },
   {
    "duration": 15,
    "start_time": "2025-04-19T22:34:58.454Z"
   },
   {
    "duration": 6,
    "start_time": "2025-04-19T22:35:03.409Z"
   },
   {
    "duration": 87704,
    "start_time": "2025-04-19T22:35:05.490Z"
   },
   {
    "duration": 87188,
    "start_time": "2025-04-19T22:41:21.168Z"
   },
   {
    "duration": 86323,
    "start_time": "2025-04-19T22:43:06.207Z"
   },
   {
    "duration": 2701,
    "start_time": "2025-04-19T23:43:16.319Z"
   },
   {
    "duration": 23,
    "start_time": "2025-04-19T23:43:19.023Z"
   },
   {
    "duration": 67,
    "start_time": "2025-04-19T23:43:19.047Z"
   },
   {
    "duration": 17,
    "start_time": "2025-04-19T23:43:19.116Z"
   },
   {
    "duration": 7,
    "start_time": "2025-04-19T23:43:19.135Z"
   },
   {
    "duration": 6,
    "start_time": "2025-04-19T23:43:19.145Z"
   },
   {
    "duration": 12,
    "start_time": "2025-04-19T23:43:19.153Z"
   },
   {
    "duration": 33,
    "start_time": "2025-04-19T23:43:19.167Z"
   },
   {
    "duration": 40,
    "start_time": "2025-04-19T23:43:19.202Z"
   },
   {
    "duration": 141,
    "start_time": "2025-04-19T23:43:19.245Z"
   },
   {
    "duration": 5,
    "start_time": "2025-04-19T23:43:19.388Z"
   },
   {
    "duration": 1246,
    "start_time": "2025-04-19T23:43:19.394Z"
   },
   {
    "duration": 1121,
    "start_time": "2025-04-19T23:43:20.642Z"
   },
   {
    "duration": 558,
    "start_time": "2025-04-19T23:43:21.765Z"
   },
   {
    "duration": 55,
    "start_time": "2025-04-19T23:43:22.325Z"
   },
   {
    "duration": 769,
    "start_time": "2025-04-19T23:43:22.382Z"
   },
   {
    "duration": 7,
    "start_time": "2025-04-19T23:43:23.153Z"
   },
   {
    "duration": 8,
    "start_time": "2025-04-19T23:43:23.162Z"
   },
   {
    "duration": 78,
    "start_time": "2025-04-19T23:43:23.172Z"
   },
   {
    "duration": 80,
    "start_time": "2025-04-19T23:43:23.253Z"
   },
   {
    "duration": 7,
    "start_time": "2025-04-19T23:43:23.338Z"
   },
   {
    "duration": 84,
    "start_time": "2025-04-19T23:43:23.349Z"
   },
   {
    "duration": 8,
    "start_time": "2025-04-19T23:43:23.439Z"
   },
   {
    "duration": 167,
    "start_time": "2025-04-19T23:43:23.449Z"
   },
   {
    "duration": 19,
    "start_time": "2025-04-19T23:43:23.618Z"
   },
   {
    "duration": 10,
    "start_time": "2025-04-19T23:43:23.638Z"
   },
   {
    "duration": 8,
    "start_time": "2025-04-19T23:43:23.650Z"
   },
   {
    "duration": 8,
    "start_time": "2025-04-19T23:43:23.662Z"
   },
   {
    "duration": 10,
    "start_time": "2025-04-19T23:43:23.671Z"
   },
   {
    "duration": 5,
    "start_time": "2025-04-19T23:43:23.683Z"
   },
   {
    "duration": 86116,
    "start_time": "2025-04-19T23:43:23.690Z"
   },
   {
    "duration": 704,
    "start_time": "2025-04-19T23:44:49.808Z"
   },
   {
    "duration": 0,
    "start_time": "2025-04-19T23:44:50.515Z"
   },
   {
    "duration": 371,
    "start_time": "2025-04-20T00:02:54.278Z"
   },
   {
    "duration": 19,
    "start_time": "2025-04-20T00:07:22.814Z"
   },
   {
    "duration": 8,
    "start_time": "2025-04-20T00:10:33.229Z"
   },
   {
    "duration": 382,
    "start_time": "2025-04-20T00:12:16.656Z"
   },
   {
    "duration": 1663,
    "start_time": "2025-04-20T00:23:43.768Z"
   },
   {
    "duration": 3,
    "start_time": "2025-04-20T00:35:58.316Z"
   },
   {
    "duration": 243,
    "start_time": "2025-04-20T00:36:21.588Z"
   },
   {
    "duration": 13,
    "start_time": "2025-04-20T00:36:24.000Z"
   },
   {
    "duration": 169,
    "start_time": "2025-04-20T13:29:13.236Z"
   },
   {
    "duration": 2819,
    "start_time": "2025-04-20T13:29:33.656Z"
   },
   {
    "duration": 28,
    "start_time": "2025-04-20T13:29:36.478Z"
   },
   {
    "duration": 9,
    "start_time": "2025-04-20T13:29:36.507Z"
   },
   {
    "duration": 10,
    "start_time": "2025-04-20T13:29:36.518Z"
   },
   {
    "duration": 6,
    "start_time": "2025-04-20T13:29:36.530Z"
   },
   {
    "duration": 6,
    "start_time": "2025-04-20T13:29:36.538Z"
   },
   {
    "duration": 11,
    "start_time": "2025-04-20T13:29:36.545Z"
   },
   {
    "duration": 31,
    "start_time": "2025-04-20T13:29:36.558Z"
   },
   {
    "duration": 11,
    "start_time": "2025-04-20T13:29:36.624Z"
   },
   {
    "duration": 140,
    "start_time": "2025-04-20T13:29:36.637Z"
   },
   {
    "duration": 4,
    "start_time": "2025-04-20T13:29:36.779Z"
   },
   {
    "duration": 1195,
    "start_time": "2025-04-20T13:29:36.785Z"
   },
   {
    "duration": 1042,
    "start_time": "2025-04-20T13:29:37.982Z"
   },
   {
    "duration": 642,
    "start_time": "2025-04-20T13:29:39.028Z"
   },
   {
    "duration": 59,
    "start_time": "2025-04-20T13:29:39.672Z"
   },
   {
    "duration": 767,
    "start_time": "2025-04-20T13:29:39.733Z"
   },
   {
    "duration": 6,
    "start_time": "2025-04-20T13:29:40.502Z"
   },
   {
    "duration": 18,
    "start_time": "2025-04-20T13:29:40.510Z"
   },
   {
    "duration": 14,
    "start_time": "2025-04-20T13:29:40.530Z"
   },
   {
    "duration": 5,
    "start_time": "2025-04-20T13:29:40.546Z"
   },
   {
    "duration": 73,
    "start_time": "2025-04-20T13:29:40.553Z"
   },
   {
    "duration": 9,
    "start_time": "2025-04-20T13:29:40.628Z"
   },
   {
    "duration": 86,
    "start_time": "2025-04-20T13:29:40.639Z"
   },
   {
    "duration": 133,
    "start_time": "2025-04-20T13:29:40.727Z"
   },
   {
    "duration": 9,
    "start_time": "2025-04-20T13:29:40.862Z"
   },
   {
    "duration": 10,
    "start_time": "2025-04-20T13:29:40.873Z"
   },
   {
    "duration": 7,
    "start_time": "2025-04-20T13:29:40.884Z"
   },
   {
    "duration": 33,
    "start_time": "2025-04-20T13:29:40.893Z"
   },
   {
    "duration": 11,
    "start_time": "2025-04-20T13:29:40.928Z"
   },
   {
    "duration": 6,
    "start_time": "2025-04-20T13:29:40.941Z"
   },
   {
    "duration": 85532,
    "start_time": "2025-04-20T13:29:40.948Z"
   },
   {
    "duration": 348,
    "start_time": "2025-04-20T13:31:06.482Z"
   },
   {
    "duration": 93,
    "start_time": "2025-04-20T13:31:06.832Z"
   },
   {
    "duration": 1239,
    "start_time": "2025-04-20T13:31:06.927Z"
   },
   {
    "duration": 1,
    "start_time": "2025-04-20T13:31:08.167Z"
   },
   {
    "duration": 0,
    "start_time": "2025-04-20T13:31:08.169Z"
   },
   {
    "duration": 2708,
    "start_time": "2025-04-20T22:49:41.534Z"
   },
   {
    "duration": 18,
    "start_time": "2025-04-20T22:49:44.244Z"
   },
   {
    "duration": 11,
    "start_time": "2025-04-20T22:49:44.263Z"
   },
   {
    "duration": 16,
    "start_time": "2025-04-20T22:49:44.277Z"
   },
   {
    "duration": 6,
    "start_time": "2025-04-20T22:49:44.295Z"
   },
   {
    "duration": 6,
    "start_time": "2025-04-20T22:49:44.302Z"
   },
   {
    "duration": 10,
    "start_time": "2025-04-20T22:49:44.310Z"
   },
   {
    "duration": 30,
    "start_time": "2025-04-20T22:49:44.322Z"
   },
   {
    "duration": 42,
    "start_time": "2025-04-20T22:49:44.354Z"
   },
   {
    "duration": 138,
    "start_time": "2025-04-20T22:49:44.398Z"
   },
   {
    "duration": 4,
    "start_time": "2025-04-20T22:49:44.538Z"
   },
   {
    "duration": 1239,
    "start_time": "2025-04-20T22:49:44.544Z"
   },
   {
    "duration": 1110,
    "start_time": "2025-04-20T22:49:45.785Z"
   },
   {
    "duration": 570,
    "start_time": "2025-04-20T22:49:46.897Z"
   },
   {
    "duration": 58,
    "start_time": "2025-04-20T22:49:47.469Z"
   },
   {
    "duration": 741,
    "start_time": "2025-04-20T22:49:47.529Z"
   },
   {
    "duration": 5,
    "start_time": "2025-04-20T22:49:48.273Z"
   },
   {
    "duration": 11,
    "start_time": "2025-04-20T22:49:48.280Z"
   },
   {
    "duration": 14,
    "start_time": "2025-04-20T22:49:48.293Z"
   },
   {
    "duration": 5,
    "start_time": "2025-04-20T22:49:48.308Z"
   },
   {
    "duration": 75,
    "start_time": "2025-04-20T22:49:48.314Z"
   },
   {
    "duration": 8,
    "start_time": "2025-04-20T22:49:48.393Z"
   },
   {
    "duration": 83,
    "start_time": "2025-04-20T22:49:48.403Z"
   },
   {
    "duration": 139,
    "start_time": "2025-04-20T22:49:48.488Z"
   },
   {
    "duration": 9,
    "start_time": "2025-04-20T22:49:48.629Z"
   },
   {
    "duration": 9,
    "start_time": "2025-04-20T22:49:48.640Z"
   },
   {
    "duration": 9,
    "start_time": "2025-04-20T22:49:48.650Z"
   },
   {
    "duration": 30,
    "start_time": "2025-04-20T22:49:48.663Z"
   },
   {
    "duration": 10,
    "start_time": "2025-04-20T22:49:48.695Z"
   },
   {
    "duration": 6,
    "start_time": "2025-04-20T22:49:48.706Z"
   },
   {
    "duration": 86265,
    "start_time": "2025-04-20T22:49:48.713Z"
   },
   {
    "duration": 313,
    "start_time": "2025-04-20T22:51:14.980Z"
   },
   {
    "duration": 93,
    "start_time": "2025-04-20T22:51:15.295Z"
   },
   {
    "duration": 1291,
    "start_time": "2025-04-20T22:51:15.390Z"
   },
   {
    "duration": 0,
    "start_time": "2025-04-20T22:51:16.686Z"
   },
   {
    "duration": 0,
    "start_time": "2025-04-20T22:51:16.687Z"
   },
   {
    "duration": 3,
    "start_time": "2025-04-20T23:12:26.136Z"
   },
   {
    "duration": 1686,
    "start_time": "2025-04-20T23:17:49.142Z"
   },
   {
    "duration": 6,
    "start_time": "2025-04-20T23:36:17.272Z"
   },
   {
    "duration": 1209,
    "start_time": "2025-04-20T23:36:18.832Z"
   },
   {
    "duration": 2952,
    "start_time": "2025-04-21T01:14:59.914Z"
   },
   {
    "duration": 19,
    "start_time": "2025-04-21T01:15:02.869Z"
   },
   {
    "duration": 10,
    "start_time": "2025-04-21T01:15:02.889Z"
   },
   {
    "duration": 10,
    "start_time": "2025-04-21T01:15:02.902Z"
   },
   {
    "duration": 15,
    "start_time": "2025-04-21T01:15:02.913Z"
   },
   {
    "duration": 8,
    "start_time": "2025-04-21T01:15:02.930Z"
   },
   {
    "duration": 13,
    "start_time": "2025-04-21T01:15:02.940Z"
   },
   {
    "duration": 44,
    "start_time": "2025-04-21T01:15:02.954Z"
   },
   {
    "duration": 36,
    "start_time": "2025-04-21T01:15:02.999Z"
   },
   {
    "duration": 164,
    "start_time": "2025-04-21T01:15:03.039Z"
   },
   {
    "duration": 5,
    "start_time": "2025-04-21T01:15:03.205Z"
   },
   {
    "duration": 1285,
    "start_time": "2025-04-21T01:15:03.223Z"
   },
   {
    "duration": 1114,
    "start_time": "2025-04-21T01:15:04.510Z"
   },
   {
    "duration": 635,
    "start_time": "2025-04-21T01:15:05.626Z"
   },
   {
    "duration": 7,
    "start_time": "2025-04-21T01:15:06.263Z"
   },
   {
    "duration": 9,
    "start_time": "2025-04-21T01:15:06.272Z"
   },
   {
    "duration": 60,
    "start_time": "2025-04-21T01:15:06.282Z"
   },
   {
    "duration": 7,
    "start_time": "2025-04-21T01:15:06.345Z"
   },
   {
    "duration": 72,
    "start_time": "2025-04-21T01:15:06.353Z"
   },
   {
    "duration": 16,
    "start_time": "2025-04-21T01:15:06.427Z"
   },
   {
    "duration": 79,
    "start_time": "2025-04-21T01:15:06.445Z"
   },
   {
    "duration": 126,
    "start_time": "2025-04-21T01:15:06.528Z"
   },
   {
    "duration": 12,
    "start_time": "2025-04-21T01:15:06.656Z"
   },
   {
    "duration": 10,
    "start_time": "2025-04-21T01:15:06.670Z"
   },
   {
    "duration": 7,
    "start_time": "2025-04-21T01:15:06.682Z"
   },
   {
    "duration": 34,
    "start_time": "2025-04-21T01:15:06.690Z"
   },
   {
    "duration": 12,
    "start_time": "2025-04-21T01:15:06.726Z"
   },
   {
    "duration": 8,
    "start_time": "2025-04-21T01:15:06.744Z"
   },
   {
    "duration": 87625,
    "start_time": "2025-04-21T01:15:06.755Z"
   },
   {
    "duration": 349,
    "start_time": "2025-04-21T01:16:34.382Z"
   },
   {
    "duration": 15,
    "start_time": "2025-04-21T01:16:34.734Z"
   },
   {
    "duration": 5,
    "start_time": "2025-04-21T01:16:34.751Z"
   },
   {
    "duration": 1509,
    "start_time": "2025-04-21T01:16:34.825Z"
   },
   {
    "duration": 0,
    "start_time": "2025-04-21T01:16:36.336Z"
   },
   {
    "duration": 0,
    "start_time": "2025-04-21T01:16:36.337Z"
   },
   {
    "duration": 0,
    "start_time": "2025-04-21T01:16:36.338Z"
   },
   {
    "duration": 1129,
    "start_time": "2025-04-21T01:19:50.297Z"
   },
   {
    "duration": 288,
    "start_time": "2025-04-21T01:20:18.188Z"
   },
   {
    "duration": 2651,
    "start_time": "2025-04-21T04:01:31.500Z"
   },
   {
    "duration": 17,
    "start_time": "2025-04-21T04:01:34.155Z"
   },
   {
    "duration": 10,
    "start_time": "2025-04-21T04:01:34.174Z"
   },
   {
    "duration": 9,
    "start_time": "2025-04-21T04:01:34.186Z"
   },
   {
    "duration": 8,
    "start_time": "2025-04-21T04:01:34.198Z"
   },
   {
    "duration": 6,
    "start_time": "2025-04-21T04:01:34.225Z"
   },
   {
    "duration": 10,
    "start_time": "2025-04-21T04:01:34.232Z"
   },
   {
    "duration": 31,
    "start_time": "2025-04-21T04:01:34.244Z"
   },
   {
    "duration": 11,
    "start_time": "2025-04-21T04:01:34.276Z"
   },
   {
    "duration": 159,
    "start_time": "2025-04-21T04:01:34.289Z"
   },
   {
    "duration": 5,
    "start_time": "2025-04-21T04:01:34.449Z"
   },
   {
    "duration": 1148,
    "start_time": "2025-04-21T04:01:34.456Z"
   },
   {
    "duration": 1131,
    "start_time": "2025-04-21T04:01:35.606Z"
   },
   {
    "duration": 574,
    "start_time": "2025-04-21T04:01:36.741Z"
   },
   {
    "duration": 12,
    "start_time": "2025-04-21T04:01:37.318Z"
   },
   {
    "duration": 7,
    "start_time": "2025-04-21T04:01:37.332Z"
   },
   {
    "duration": 15,
    "start_time": "2025-04-21T04:01:37.340Z"
   },
   {
    "duration": 66,
    "start_time": "2025-04-21T04:01:37.359Z"
   },
   {
    "duration": 7,
    "start_time": "2025-04-21T04:01:37.427Z"
   },
   {
    "duration": 9,
    "start_time": "2025-04-21T04:01:37.436Z"
   },
   {
    "duration": 82,
    "start_time": "2025-04-21T04:01:37.447Z"
   },
   {
    "duration": 145,
    "start_time": "2025-04-21T04:01:37.531Z"
   },
   {
    "duration": 10,
    "start_time": "2025-04-21T04:01:37.677Z"
   },
   {
    "duration": 10,
    "start_time": "2025-04-21T04:01:37.688Z"
   },
   {
    "duration": 28,
    "start_time": "2025-04-21T04:01:37.700Z"
   },
   {
    "duration": 8,
    "start_time": "2025-04-21T04:01:37.729Z"
   },
   {
    "duration": 10,
    "start_time": "2025-04-21T04:01:37.738Z"
   },
   {
    "duration": 6,
    "start_time": "2025-04-21T04:01:37.750Z"
   },
   {
    "duration": 84968,
    "start_time": "2025-04-21T04:01:37.757Z"
   },
   {
    "duration": 316,
    "start_time": "2025-04-21T04:03:02.728Z"
   },
   {
    "duration": 95,
    "start_time": "2025-04-21T04:03:03.045Z"
   },
   {
    "duration": 4,
    "start_time": "2025-04-21T04:03:03.142Z"
   },
   {
    "duration": 744,
    "start_time": "2025-04-21T04:03:03.148Z"
   },
   {
    "duration": 0,
    "start_time": "2025-04-21T04:03:03.894Z"
   },
   {
    "duration": 0,
    "start_time": "2025-04-21T04:03:03.895Z"
   },
   {
    "duration": 0,
    "start_time": "2025-04-21T04:03:03.897Z"
   },
   {
    "duration": 1296,
    "start_time": "2025-04-21T04:41:15.998Z"
   },
   {
    "duration": 1421,
    "start_time": "2025-04-21T04:45:17.054Z"
   },
   {
    "duration": 1302,
    "start_time": "2025-04-21T04:48:11.248Z"
   },
   {
    "duration": 1321,
    "start_time": "2025-04-21T04:51:07.521Z"
   },
   {
    "duration": 1439,
    "start_time": "2025-04-21T04:51:41.134Z"
   },
   {
    "duration": 1317,
    "start_time": "2025-04-21T04:59:34.666Z"
   },
   {
    "duration": 1376,
    "start_time": "2025-04-21T05:00:10.883Z"
   },
   {
    "duration": 1576,
    "start_time": "2025-04-21T05:01:53.948Z"
   },
   {
    "duration": 1372,
    "start_time": "2025-04-21T05:04:00.896Z"
   },
   {
    "duration": 1327,
    "start_time": "2025-04-21T05:04:22.630Z"
   },
   {
    "duration": 1441,
    "start_time": "2025-04-21T05:05:03.855Z"
   },
   {
    "duration": 1380,
    "start_time": "2025-04-21T05:13:21.283Z"
   },
   {
    "duration": 1280,
    "start_time": "2025-04-21T05:14:56.599Z"
   },
   {
    "duration": 1431,
    "start_time": "2025-04-21T05:15:46.546Z"
   },
   {
    "duration": 1337,
    "start_time": "2025-04-21T05:16:11.579Z"
   },
   {
    "duration": 1328,
    "start_time": "2025-04-21T05:16:58.684Z"
   },
   {
    "duration": 1492,
    "start_time": "2025-04-21T05:17:13.316Z"
   },
   {
    "duration": 1333,
    "start_time": "2025-04-21T05:17:25.201Z"
   },
   {
    "duration": 1194,
    "start_time": "2025-04-21T05:18:55.713Z"
   },
   {
    "duration": 1026,
    "start_time": "2025-04-21T05:19:35.532Z"
   },
   {
    "duration": 1256,
    "start_time": "2025-04-21T05:19:49.288Z"
   },
   {
    "duration": 1088,
    "start_time": "2025-04-21T05:20:16.323Z"
   },
   {
    "duration": 1131,
    "start_time": "2025-04-21T05:20:37.484Z"
   },
   {
    "duration": 1083,
    "start_time": "2025-04-21T05:20:52.924Z"
   },
   {
    "duration": 1266,
    "start_time": "2025-04-21T05:21:07.484Z"
   },
   {
    "duration": 1221,
    "start_time": "2025-04-21T05:21:50.464Z"
   },
   {
    "duration": 1148,
    "start_time": "2025-04-21T05:22:32.933Z"
   },
   {
    "duration": 1128,
    "start_time": "2025-04-21T05:23:22.307Z"
   },
   {
    "duration": 1138,
    "start_time": "2025-04-21T05:23:56.786Z"
   },
   {
    "duration": 1019,
    "start_time": "2025-04-21T05:25:11.073Z"
   },
   {
    "duration": 1155,
    "start_time": "2025-04-21T05:25:45.238Z"
   },
   {
    "duration": 1170,
    "start_time": "2025-04-21T05:25:56.787Z"
   },
   {
    "duration": 1022,
    "start_time": "2025-04-21T05:26:18.596Z"
   },
   {
    "duration": 1175,
    "start_time": "2025-04-21T05:27:07.528Z"
   },
   {
    "duration": 1155,
    "start_time": "2025-04-21T05:27:31.476Z"
   },
   {
    "duration": 1134,
    "start_time": "2025-04-21T05:30:20.577Z"
   },
   {
    "duration": 1014,
    "start_time": "2025-04-21T05:31:25.284Z"
   },
   {
    "duration": 1237,
    "start_time": "2025-04-21T05:32:27.493Z"
   },
   {
    "duration": 1172,
    "start_time": "2025-04-21T05:34:48.211Z"
   },
   {
    "duration": 1118,
    "start_time": "2025-04-21T05:35:22.549Z"
   },
   {
    "duration": 528,
    "start_time": "2025-04-21T05:41:03.049Z"
   },
   {
    "duration": 1715,
    "start_time": "2025-04-21T05:41:46.409Z"
   },
   {
    "duration": 2683,
    "start_time": "2025-04-21T14:10:48.822Z"
   },
   {
    "duration": 18,
    "start_time": "2025-04-21T14:10:51.507Z"
   },
   {
    "duration": 10,
    "start_time": "2025-04-21T14:10:51.526Z"
   },
   {
    "duration": 9,
    "start_time": "2025-04-21T14:10:51.537Z"
   },
   {
    "duration": 6,
    "start_time": "2025-04-21T14:10:51.548Z"
   },
   {
    "duration": 7,
    "start_time": "2025-04-21T14:10:51.571Z"
   },
   {
    "duration": 13,
    "start_time": "2025-04-21T14:10:51.580Z"
   },
   {
    "duration": 38,
    "start_time": "2025-04-21T14:10:51.595Z"
   },
   {
    "duration": 12,
    "start_time": "2025-04-21T14:10:51.635Z"
   },
   {
    "duration": 137,
    "start_time": "2025-04-21T14:10:51.670Z"
   },
   {
    "duration": 5,
    "start_time": "2025-04-21T14:10:51.808Z"
   },
   {
    "duration": 1223,
    "start_time": "2025-04-21T14:10:51.815Z"
   },
   {
    "duration": 1041,
    "start_time": "2025-04-21T14:10:53.040Z"
   },
   {
    "duration": 667,
    "start_time": "2025-04-21T14:10:54.085Z"
   },
   {
    "duration": 6,
    "start_time": "2025-04-21T14:10:54.754Z"
   },
   {
    "duration": 17,
    "start_time": "2025-04-21T14:10:54.761Z"
   },
   {
    "duration": 28,
    "start_time": "2025-04-21T14:10:54.780Z"
   },
   {
    "duration": 4,
    "start_time": "2025-04-21T14:10:54.871Z"
   },
   {
    "duration": 5,
    "start_time": "2025-04-21T14:10:54.877Z"
   },
   {
    "duration": 87,
    "start_time": "2025-04-21T14:10:54.884Z"
   },
   {
    "duration": 10,
    "start_time": "2025-04-21T14:10:54.972Z"
   },
   {
    "duration": 161,
    "start_time": "2025-04-21T14:10:54.984Z"
   },
   {
    "duration": 10,
    "start_time": "2025-04-21T14:10:55.147Z"
   },
   {
    "duration": 20,
    "start_time": "2025-04-21T14:10:55.158Z"
   },
   {
    "duration": 7,
    "start_time": "2025-04-21T14:10:55.179Z"
   },
   {
    "duration": 8,
    "start_time": "2025-04-21T14:10:55.188Z"
   },
   {
    "duration": 10,
    "start_time": "2025-04-21T14:10:55.198Z"
   },
   {
    "duration": 7,
    "start_time": "2025-04-21T14:10:55.209Z"
   },
   {
    "duration": 85429,
    "start_time": "2025-04-21T14:10:55.217Z"
   },
   {
    "duration": 325,
    "start_time": "2025-04-21T14:12:20.647Z"
   },
   {
    "duration": 15,
    "start_time": "2025-04-21T14:12:20.974Z"
   },
   {
    "duration": 655,
    "start_time": "2025-04-21T14:12:20.990Z"
   },
   {
    "duration": 0,
    "start_time": "2025-04-21T14:12:21.647Z"
   },
   {
    "duration": 0,
    "start_time": "2025-04-21T14:12:21.648Z"
   },
   {
    "duration": 0,
    "start_time": "2025-04-21T14:12:21.651Z"
   },
   {
    "duration": 0,
    "start_time": "2025-04-21T14:12:21.652Z"
   },
   {
    "duration": 0,
    "start_time": "2025-04-21T14:12:21.669Z"
   },
   {
    "duration": 1311,
    "start_time": "2025-04-21T14:14:10.739Z"
   },
   {
    "duration": 771,
    "start_time": "2025-04-21T14:18:24.790Z"
   },
   {
    "duration": 376,
    "start_time": "2025-04-21T14:35:01.945Z"
   },
   {
    "duration": 264,
    "start_time": "2025-04-21T14:35:48.968Z"
   },
   {
    "duration": 743,
    "start_time": "2025-04-21T14:36:04.027Z"
   },
   {
    "duration": 781,
    "start_time": "2025-04-21T14:39:27.539Z"
   },
   {
    "duration": 2695,
    "start_time": "2025-04-21T16:10:29.970Z"
   },
   {
    "duration": 20,
    "start_time": "2025-04-21T16:10:32.667Z"
   },
   {
    "duration": 11,
    "start_time": "2025-04-21T16:10:32.688Z"
   },
   {
    "duration": 9,
    "start_time": "2025-04-21T16:10:32.700Z"
   },
   {
    "duration": 6,
    "start_time": "2025-04-21T16:10:32.711Z"
   },
   {
    "duration": 6,
    "start_time": "2025-04-21T16:10:32.719Z"
   },
   {
    "duration": 11,
    "start_time": "2025-04-21T16:10:32.743Z"
   },
   {
    "duration": 33,
    "start_time": "2025-04-21T16:10:32.756Z"
   },
   {
    "duration": 12,
    "start_time": "2025-04-21T16:10:32.790Z"
   },
   {
    "duration": 157,
    "start_time": "2025-04-21T16:10:32.804Z"
   },
   {
    "duration": 5,
    "start_time": "2025-04-21T16:10:32.963Z"
   },
   {
    "duration": 1181,
    "start_time": "2025-04-21T16:10:32.970Z"
   },
   {
    "duration": 1107,
    "start_time": "2025-04-21T16:10:34.153Z"
   },
   {
    "duration": 556,
    "start_time": "2025-04-21T16:10:35.265Z"
   },
   {
    "duration": 5,
    "start_time": "2025-04-21T16:10:35.824Z"
   },
   {
    "duration": 16,
    "start_time": "2025-04-21T16:10:35.831Z"
   },
   {
    "duration": 15,
    "start_time": "2025-04-21T16:10:35.849Z"
   },
   {
    "duration": 5,
    "start_time": "2025-04-21T16:10:35.866Z"
   },
   {
    "duration": 72,
    "start_time": "2025-04-21T16:10:35.873Z"
   },
   {
    "duration": 14,
    "start_time": "2025-04-21T16:10:35.955Z"
   },
   {
    "duration": 80,
    "start_time": "2025-04-21T16:10:35.971Z"
   },
   {
    "duration": 134,
    "start_time": "2025-04-21T16:10:36.053Z"
   },
   {
    "duration": 10,
    "start_time": "2025-04-21T16:10:36.188Z"
   },
   {
    "duration": 9,
    "start_time": "2025-04-21T16:10:36.199Z"
   },
   {
    "duration": 7,
    "start_time": "2025-04-21T16:10:36.210Z"
   },
   {
    "duration": 28,
    "start_time": "2025-04-21T16:10:36.220Z"
   },
   {
    "duration": 10,
    "start_time": "2025-04-21T16:10:36.250Z"
   },
   {
    "duration": 6,
    "start_time": "2025-04-21T16:10:36.262Z"
   },
   {
    "duration": 86106,
    "start_time": "2025-04-21T16:10:36.270Z"
   },
   {
    "duration": 276,
    "start_time": "2025-04-21T16:12:02.378Z"
   },
   {
    "duration": 91,
    "start_time": "2025-04-21T16:12:02.656Z"
   },
   {
    "duration": 1384,
    "start_time": "2025-04-21T16:12:02.749Z"
   },
   {
    "duration": 109094,
    "start_time": "2025-04-21T16:12:04.135Z"
   },
   {
    "duration": 0,
    "start_time": "2025-04-21T16:13:53.231Z"
   },
   {
    "duration": 0,
    "start_time": "2025-04-21T16:13:53.233Z"
   },
   {
    "duration": 0,
    "start_time": "2025-04-21T16:13:53.234Z"
   },
   {
    "duration": 0,
    "start_time": "2025-04-21T16:13:53.235Z"
   },
   {
    "duration": 0,
    "start_time": "2025-04-21T16:13:53.236Z"
   },
   {
    "duration": 32,
    "start_time": "2025-04-21T16:43:33.218Z"
   },
   {
    "duration": 344,
    "start_time": "2025-04-21T16:43:57.068Z"
   },
   {
    "duration": 21,
    "start_time": "2025-04-21T16:50:48.511Z"
   },
   {
    "duration": 19,
    "start_time": "2025-04-21T16:51:28.575Z"
   },
   {
    "duration": 179,
    "start_time": "2025-04-21T16:52:01.957Z"
   },
   {
    "duration": 100,
    "start_time": "2025-04-21T16:55:16.311Z"
   },
   {
    "duration": 59,
    "start_time": "2025-04-21T16:55:29.707Z"
   },
   {
    "duration": 19,
    "start_time": "2025-04-21T17:05:33.732Z"
   },
   {
    "duration": 1696,
    "start_time": "2025-04-21T17:06:05.672Z"
   },
   {
    "duration": 215992,
    "start_time": "2025-04-21T17:22:23.922Z"
   },
   {
    "duration": 21,
    "start_time": "2025-04-21T17:27:19.542Z"
   },
   {
    "duration": 19,
    "start_time": "2025-04-21T17:28:06.381Z"
   },
   {
    "duration": 20,
    "start_time": "2025-04-21T17:28:31.642Z"
   },
   {
    "duration": 58,
    "start_time": "2025-04-21T17:28:41.070Z"
   },
   {
    "duration": 5,
    "start_time": "2025-04-21T17:33:09.242Z"
   },
   {
    "duration": 216180,
    "start_time": "2025-04-21T17:33:17.733Z"
   },
   {
    "duration": 13,
    "start_time": "2025-04-21T17:38:03.506Z"
   },
   {
    "duration": 2684,
    "start_time": "2025-04-22T00:26:29.944Z"
   },
   {
    "duration": 19,
    "start_time": "2025-04-22T00:26:32.631Z"
   },
   {
    "duration": 9,
    "start_time": "2025-04-22T00:26:32.652Z"
   },
   {
    "duration": 9,
    "start_time": "2025-04-22T00:26:32.663Z"
   },
   {
    "duration": 6,
    "start_time": "2025-04-22T00:26:32.674Z"
   },
   {
    "duration": 5,
    "start_time": "2025-04-22T00:26:32.682Z"
   },
   {
    "duration": 10,
    "start_time": "2025-04-22T00:26:32.712Z"
   },
   {
    "duration": 36,
    "start_time": "2025-04-22T00:26:32.724Z"
   },
   {
    "duration": 11,
    "start_time": "2025-04-22T00:26:32.762Z"
   },
   {
    "duration": 150,
    "start_time": "2025-04-22T00:26:32.776Z"
   },
   {
    "duration": 5,
    "start_time": "2025-04-22T00:26:32.928Z"
   },
   {
    "duration": 1233,
    "start_time": "2025-04-22T00:26:32.935Z"
   },
   {
    "duration": 1052,
    "start_time": "2025-04-22T00:26:34.170Z"
   },
   {
    "duration": 663,
    "start_time": "2025-04-22T00:26:35.223Z"
   },
   {
    "duration": 6,
    "start_time": "2025-04-22T00:26:35.888Z"
   },
   {
    "duration": 17,
    "start_time": "2025-04-22T00:26:35.896Z"
   },
   {
    "duration": 15,
    "start_time": "2025-04-22T00:26:35.915Z"
   },
   {
    "duration": 8,
    "start_time": "2025-04-22T00:26:35.931Z"
   },
   {
    "duration": 73,
    "start_time": "2025-04-22T00:26:35.940Z"
   },
   {
    "duration": 9,
    "start_time": "2025-04-22T00:26:36.015Z"
   },
   {
    "duration": 9,
    "start_time": "2025-04-22T00:26:36.025Z"
   },
   {
    "duration": 206,
    "start_time": "2025-04-22T00:26:36.036Z"
   },
   {
    "duration": 10,
    "start_time": "2025-04-22T00:26:36.244Z"
   },
   {
    "duration": 10,
    "start_time": "2025-04-22T00:26:36.255Z"
   },
   {
    "duration": 8,
    "start_time": "2025-04-22T00:26:36.266Z"
   },
   {
    "duration": 37,
    "start_time": "2025-04-22T00:26:36.275Z"
   },
   {
    "duration": 10,
    "start_time": "2025-04-22T00:26:36.315Z"
   },
   {
    "duration": 7,
    "start_time": "2025-04-22T00:26:36.329Z"
   },
   {
    "duration": 84477,
    "start_time": "2025-04-22T00:26:36.338Z"
   },
   {
    "duration": 304,
    "start_time": "2025-04-22T00:28:00.817Z"
   },
   {
    "duration": 95,
    "start_time": "2025-04-22T00:28:01.123Z"
   },
   {
    "duration": 1408,
    "start_time": "2025-04-22T00:28:01.220Z"
   },
   {
    "duration": 577,
    "start_time": "2025-04-22T00:28:02.630Z"
   },
   {
    "duration": 0,
    "start_time": "2025-04-22T00:28:03.212Z"
   },
   {
    "duration": 0,
    "start_time": "2025-04-22T00:28:03.214Z"
   },
   {
    "duration": 0,
    "start_time": "2025-04-22T00:28:03.216Z"
   },
   {
    "duration": 0,
    "start_time": "2025-04-22T00:28:03.217Z"
   },
   {
    "duration": 52,
    "start_time": "2025-04-22T00:52:20.355Z"
   },
   {
    "duration": 437,
    "start_time": "2025-04-22T00:53:59.137Z"
   },
   {
    "duration": 200,
    "start_time": "2025-04-22T01:04:28.898Z"
   },
   {
    "duration": 2802,
    "start_time": "2025-04-22T03:26:57.415Z"
   },
   {
    "duration": 21,
    "start_time": "2025-04-22T03:27:00.219Z"
   },
   {
    "duration": 11,
    "start_time": "2025-04-22T03:27:00.242Z"
   },
   {
    "duration": 9,
    "start_time": "2025-04-22T03:27:00.255Z"
   },
   {
    "duration": 7,
    "start_time": "2025-04-22T03:27:00.266Z"
   },
   {
    "duration": 6,
    "start_time": "2025-04-22T03:27:00.274Z"
   },
   {
    "duration": 33,
    "start_time": "2025-04-22T03:27:00.282Z"
   },
   {
    "duration": 33,
    "start_time": "2025-04-22T03:27:00.316Z"
   },
   {
    "duration": 14,
    "start_time": "2025-04-22T03:27:00.351Z"
   },
   {
    "duration": 151,
    "start_time": "2025-04-22T03:27:00.369Z"
   },
   {
    "duration": 4,
    "start_time": "2025-04-22T03:27:00.522Z"
   },
   {
    "duration": 1253,
    "start_time": "2025-04-22T03:27:00.528Z"
   },
   {
    "duration": 1036,
    "start_time": "2025-04-22T03:27:01.783Z"
   },
   {
    "duration": 660,
    "start_time": "2025-04-22T03:27:02.821Z"
   },
   {
    "duration": 6,
    "start_time": "2025-04-22T03:27:03.482Z"
   },
   {
    "duration": 8,
    "start_time": "2025-04-22T03:27:03.489Z"
   },
   {
    "duration": 24,
    "start_time": "2025-04-22T03:27:03.498Z"
   },
   {
    "duration": 5,
    "start_time": "2025-04-22T03:27:03.524Z"
   },
   {
    "duration": 79,
    "start_time": "2025-04-22T03:27:03.531Z"
   },
   {
    "duration": 9,
    "start_time": "2025-04-22T03:27:03.613Z"
   },
   {
    "duration": 11,
    "start_time": "2025-04-22T03:27:03.623Z"
   },
   {
    "duration": 203,
    "start_time": "2025-04-22T03:27:03.636Z"
   },
   {
    "duration": 9,
    "start_time": "2025-04-22T03:27:03.841Z"
   },
   {
    "duration": 10,
    "start_time": "2025-04-22T03:27:03.852Z"
   },
   {
    "duration": 7,
    "start_time": "2025-04-22T03:27:03.863Z"
   },
   {
    "duration": 9,
    "start_time": "2025-04-22T03:27:03.872Z"
   },
   {
    "duration": 12,
    "start_time": "2025-04-22T03:27:03.909Z"
   },
   {
    "duration": 4,
    "start_time": "2025-04-22T03:27:03.926Z"
   },
   {
    "duration": 85330,
    "start_time": "2025-04-22T03:27:03.932Z"
   },
   {
    "duration": 256,
    "start_time": "2025-04-22T03:28:29.265Z"
   },
   {
    "duration": 88,
    "start_time": "2025-04-22T03:28:29.523Z"
   },
   {
    "duration": 1413,
    "start_time": "2025-04-22T03:28:29.613Z"
   },
   {
    "duration": 205935,
    "start_time": "2025-04-22T03:28:31.028Z"
   },
   {
    "duration": 622,
    "start_time": "2025-04-22T03:31:56.965Z"
   },
   {
    "duration": 0,
    "start_time": "2025-04-22T03:31:57.589Z"
   },
   {
    "duration": 789,
    "start_time": "2025-04-22T03:38:26.820Z"
   },
   {
    "duration": 518,
    "start_time": "2025-04-22T03:48:23.443Z"
   },
   {
    "duration": 133,
    "start_time": "2025-04-22T03:49:25.764Z"
   },
   {
    "duration": 547,
    "start_time": "2025-04-22T04:06:29.947Z"
   },
   {
    "duration": 586,
    "start_time": "2025-04-22T04:07:55.546Z"
   },
   {
    "duration": 545,
    "start_time": "2025-04-22T04:08:36.827Z"
   },
   {
    "duration": 2732,
    "start_time": "2025-04-22T04:09:53.176Z"
   },
   {
    "duration": 583,
    "start_time": "2025-04-22T04:10:58.927Z"
   },
   {
    "duration": 569,
    "start_time": "2025-04-22T04:13:13.194Z"
   },
   {
    "duration": 170,
    "start_time": "2025-04-22T04:21:30.948Z"
   },
   {
    "duration": 584,
    "start_time": "2025-04-22T04:29:33.956Z"
   },
   {
    "duration": 526,
    "start_time": "2025-04-22T04:33:06.482Z"
   },
   {
    "duration": 4,
    "start_time": "2025-04-22T04:33:22.793Z"
   },
   {
    "duration": 15,
    "start_time": "2025-04-22T05:01:11.868Z"
   },
   {
    "duration": 54,
    "start_time": "2025-04-22T05:03:55.362Z"
   },
   {
    "duration": 57,
    "start_time": "2025-04-22T05:04:12.993Z"
   },
   {
    "duration": 20,
    "start_time": "2025-04-22T05:04:40.779Z"
   },
   {
    "duration": 49,
    "start_time": "2025-04-22T05:06:05.899Z"
   },
   {
    "duration": 19,
    "start_time": "2025-04-22T05:06:52.128Z"
   },
   {
    "duration": 18,
    "start_time": "2025-04-22T05:07:27.603Z"
   },
   {
    "duration": 574,
    "start_time": "2025-04-22T05:10:10.737Z"
   },
   {
    "duration": 20,
    "start_time": "2025-04-22T05:44:37.332Z"
   },
   {
    "duration": 663,
    "start_time": "2025-04-22T05:45:15.567Z"
   },
   {
    "duration": 201,
    "start_time": "2025-04-22T05:46:18.163Z"
   },
   {
    "duration": 587,
    "start_time": "2025-04-22T05:46:24.874Z"
   },
   {
    "duration": 13,
    "start_time": "2025-04-22T06:30:09.595Z"
   },
   {
    "duration": 768,
    "start_time": "2025-04-22T06:32:53.632Z"
   },
   {
    "duration": 272,
    "start_time": "2025-04-22T06:34:02.049Z"
   },
   {
    "duration": 13,
    "start_time": "2025-04-22T06:34:13.228Z"
   },
   {
    "duration": 980,
    "start_time": "2025-04-22T07:20:10.475Z"
   },
   {
    "duration": 12,
    "start_time": "2025-04-22T07:20:11.457Z"
   },
   {
    "duration": 9,
    "start_time": "2025-04-22T07:20:11.470Z"
   },
   {
    "duration": 8,
    "start_time": "2025-04-22T07:20:11.482Z"
   },
   {
    "duration": 22,
    "start_time": "2025-04-22T07:20:11.492Z"
   },
   {
    "duration": 6,
    "start_time": "2025-04-22T07:20:11.515Z"
   },
   {
    "duration": 10,
    "start_time": "2025-04-22T07:20:11.522Z"
   },
   {
    "duration": 31,
    "start_time": "2025-04-22T07:20:11.533Z"
   },
   {
    "duration": 12,
    "start_time": "2025-04-22T07:20:11.565Z"
   },
   {
    "duration": 163,
    "start_time": "2025-04-22T07:20:11.579Z"
   },
   {
    "duration": 4,
    "start_time": "2025-04-22T07:20:11.743Z"
   },
   {
    "duration": 1207,
    "start_time": "2025-04-22T07:20:11.750Z"
   },
   {
    "duration": 1109,
    "start_time": "2025-04-22T07:20:12.959Z"
   },
   {
    "duration": 513,
    "start_time": "2025-04-22T07:20:14.070Z"
   },
   {
    "duration": 5,
    "start_time": "2025-04-22T07:20:14.585Z"
   },
   {
    "duration": 17,
    "start_time": "2025-04-22T07:20:14.592Z"
   },
   {
    "duration": 16,
    "start_time": "2025-04-22T07:20:14.610Z"
   },
   {
    "duration": 4,
    "start_time": "2025-04-22T07:20:14.627Z"
   },
   {
    "duration": 77,
    "start_time": "2025-04-22T07:20:14.633Z"
   },
   {
    "duration": 8,
    "start_time": "2025-04-22T07:20:14.712Z"
   },
   {
    "duration": 86,
    "start_time": "2025-04-22T07:20:14.725Z"
   },
   {
    "duration": 132,
    "start_time": "2025-04-22T07:20:14.813Z"
   },
   {
    "duration": 10,
    "start_time": "2025-04-22T07:20:14.947Z"
   },
   {
    "duration": 10,
    "start_time": "2025-04-22T07:20:14.958Z"
   },
   {
    "duration": 7,
    "start_time": "2025-04-22T07:20:14.970Z"
   },
   {
    "duration": 32,
    "start_time": "2025-04-22T07:20:14.979Z"
   },
   {
    "duration": 12,
    "start_time": "2025-04-22T07:20:15.013Z"
   },
   {
    "duration": 6,
    "start_time": "2025-04-22T07:20:15.029Z"
   },
   {
    "duration": 85815,
    "start_time": "2025-04-22T07:20:15.036Z"
   },
   {
    "duration": 276,
    "start_time": "2025-04-22T07:21:40.854Z"
   },
   {
    "duration": 88,
    "start_time": "2025-04-22T07:21:41.132Z"
   },
   {
    "duration": 1334,
    "start_time": "2025-04-22T07:21:41.223Z"
   },
   {
    "duration": 780,
    "start_time": "2025-04-22T07:21:42.559Z"
   },
   {
    "duration": 11,
    "start_time": "2025-04-22T07:21:43.342Z"
   },
   {
    "duration": 966,
    "start_time": "2025-04-22T07:21:43.354Z"
   },
   {
    "duration": 0,
    "start_time": "2025-04-22T07:21:44.322Z"
   },
   {
    "duration": 1760,
    "start_time": "2025-04-23T04:03:28.539Z"
   },
   {
    "duration": 15,
    "start_time": "2025-04-23T04:03:30.301Z"
   },
   {
    "duration": 11,
    "start_time": "2025-04-23T04:03:30.318Z"
   },
   {
    "duration": 9,
    "start_time": "2025-04-23T04:03:30.331Z"
   },
   {
    "duration": 6,
    "start_time": "2025-04-23T04:03:30.342Z"
   },
   {
    "duration": 6,
    "start_time": "2025-04-23T04:03:30.350Z"
   },
   {
    "duration": 11,
    "start_time": "2025-04-23T04:03:30.357Z"
   },
   {
    "duration": 70,
    "start_time": "2025-04-23T04:03:30.369Z"
   },
   {
    "duration": 12,
    "start_time": "2025-04-23T04:03:30.441Z"
   },
   {
    "duration": 145,
    "start_time": "2025-04-23T04:03:30.456Z"
   },
   {
    "duration": 11,
    "start_time": "2025-04-23T04:03:30.603Z"
   },
   {
    "duration": 1621,
    "start_time": "2025-04-23T04:03:30.616Z"
   },
   {
    "duration": 1150,
    "start_time": "2025-04-23T04:03:32.239Z"
   },
   {
    "duration": 578,
    "start_time": "2025-04-23T04:03:33.391Z"
   },
   {
    "duration": 5,
    "start_time": "2025-04-23T04:03:33.971Z"
   },
   {
    "duration": 7,
    "start_time": "2025-04-23T04:03:33.977Z"
   },
   {
    "duration": 37,
    "start_time": "2025-04-23T04:03:33.986Z"
   },
   {
    "duration": 4,
    "start_time": "2025-04-23T04:03:34.025Z"
   },
   {
    "duration": 82,
    "start_time": "2025-04-23T04:03:34.031Z"
   },
   {
    "duration": 11,
    "start_time": "2025-04-23T04:03:34.116Z"
   },
   {
    "duration": 83,
    "start_time": "2025-04-23T04:03:34.132Z"
   },
   {
    "duration": 131,
    "start_time": "2025-04-23T04:03:34.216Z"
   },
   {
    "duration": 10,
    "start_time": "2025-04-23T04:03:34.348Z"
   },
   {
    "duration": 10,
    "start_time": "2025-04-23T04:03:34.360Z"
   },
   {
    "duration": 7,
    "start_time": "2025-04-23T04:03:34.372Z"
   },
   {
    "duration": 35,
    "start_time": "2025-04-23T04:03:34.381Z"
   },
   {
    "duration": 11,
    "start_time": "2025-04-23T04:03:34.418Z"
   },
   {
    "duration": 5,
    "start_time": "2025-04-23T04:03:34.433Z"
   },
   {
    "duration": 87831,
    "start_time": "2025-04-23T04:03:34.440Z"
   },
   {
    "duration": 345,
    "start_time": "2025-04-23T04:05:02.273Z"
   },
   {
    "duration": 15,
    "start_time": "2025-04-23T04:05:02.620Z"
   },
   {
    "duration": 1456,
    "start_time": "2025-04-23T04:05:02.637Z"
   },
   {
    "duration": 795,
    "start_time": "2025-04-23T04:05:04.095Z"
   },
   {
    "duration": 21,
    "start_time": "2025-04-23T04:05:04.892Z"
   },
   {
    "duration": 1040,
    "start_time": "2025-04-23T04:05:04.916Z"
   },
   {
    "duration": 0,
    "start_time": "2025-04-23T04:05:05.958Z"
   },
   {
    "duration": 15,
    "start_time": "2025-04-23T04:05:35.222Z"
   },
   {
    "duration": 857,
    "start_time": "2025-04-23T04:05:50.740Z"
   },
   {
    "duration": 157,
    "start_time": "2025-04-30T05:26:01.622Z"
   },
   {
    "duration": 2746,
    "start_time": "2025-04-30T05:26:24.100Z"
   },
   {
    "duration": 22,
    "start_time": "2025-04-30T05:26:26.848Z"
   },
   {
    "duration": 10,
    "start_time": "2025-04-30T05:26:26.872Z"
   },
   {
    "duration": 9,
    "start_time": "2025-04-30T05:26:26.883Z"
   },
   {
    "duration": 20,
    "start_time": "2025-04-30T05:26:26.895Z"
   },
   {
    "duration": 6,
    "start_time": "2025-04-30T05:26:26.916Z"
   },
   {
    "duration": 10,
    "start_time": "2025-04-30T05:26:26.924Z"
   },
   {
    "duration": 32,
    "start_time": "2025-04-30T05:26:26.935Z"
   },
   {
    "duration": 41,
    "start_time": "2025-04-30T05:26:26.968Z"
   },
   {
    "duration": 141,
    "start_time": "2025-04-30T05:26:27.011Z"
   },
   {
    "duration": 7,
    "start_time": "2025-04-30T05:26:27.154Z"
   },
   {
    "duration": 1341,
    "start_time": "2025-04-30T05:26:27.162Z"
   },
   {
    "duration": 1132,
    "start_time": "2025-04-30T05:26:28.505Z"
   },
   {
    "duration": 663,
    "start_time": "2025-04-30T05:26:29.641Z"
   },
   {
    "duration": 7,
    "start_time": "2025-04-30T05:26:30.305Z"
   },
   {
    "duration": 8,
    "start_time": "2025-04-30T05:26:30.315Z"
   },
   {
    "duration": 5,
    "start_time": "2025-04-30T05:26:30.325Z"
   },
   {
    "duration": 80,
    "start_time": "2025-04-30T05:26:30.331Z"
   },
   {
    "duration": 6,
    "start_time": "2025-04-30T05:26:30.413Z"
   },
   {
    "duration": 6,
    "start_time": "2025-04-30T05:26:30.421Z"
   },
   {
    "duration": 81,
    "start_time": "2025-04-30T05:26:30.428Z"
   },
   {
    "duration": 14,
    "start_time": "2025-04-30T05:26:30.511Z"
   },
   {
    "duration": 164,
    "start_time": "2025-04-30T05:26:30.527Z"
   },
   {
    "duration": 23,
    "start_time": "2025-04-30T05:26:30.692Z"
   },
   {
    "duration": 11,
    "start_time": "2025-04-30T05:26:30.717Z"
   },
   {
    "duration": 7,
    "start_time": "2025-04-30T05:26:30.731Z"
   },
   {
    "duration": 10,
    "start_time": "2025-04-30T05:26:30.740Z"
   },
   {
    "duration": 12,
    "start_time": "2025-04-30T05:26:30.752Z"
   },
   {
    "duration": 6,
    "start_time": "2025-04-30T05:26:30.766Z"
   },
   {
    "duration": 88057,
    "start_time": "2025-04-30T05:26:30.775Z"
   },
   {
    "duration": 281,
    "start_time": "2025-04-30T05:27:58.834Z"
   },
   {
    "duration": 26,
    "start_time": "2025-04-30T05:27:59.117Z"
   },
   {
    "duration": 1696,
    "start_time": "2025-04-30T05:27:59.145Z"
   },
   {
    "duration": 801,
    "start_time": "2025-04-30T05:28:00.843Z"
   },
   {
    "duration": 14,
    "start_time": "2025-04-30T05:28:01.646Z"
   },
   {
    "duration": 707,
    "start_time": "2025-04-30T05:28:01.663Z"
   },
   {
    "duration": 16,
    "start_time": "2025-04-30T05:28:02.373Z"
   },
   {
    "duration": 6,
    "start_time": "2025-04-30T05:43:03.626Z"
   },
   {
    "duration": 8,
    "start_time": "2025-04-30T05:43:09.166Z"
   },
   {
    "duration": 12,
    "start_time": "2025-04-30T06:02:43.059Z"
   },
   {
    "duration": 11,
    "start_time": "2025-04-30T06:02:48.637Z"
   },
   {
    "duration": 12,
    "start_time": "2025-04-30T06:09:23.186Z"
   },
   {
    "duration": 17,
    "start_time": "2025-04-30T06:41:31.338Z"
   }
  ],
  "kernelspec": {
   "display_name": "Python 3 (ipykernel)",
   "language": "python",
   "name": "python3"
  },
  "language_info": {
   "codemirror_mode": {
    "name": "ipython",
    "version": 3
   },
   "file_extension": ".py",
   "mimetype": "text/x-python",
   "name": "python",
   "nbconvert_exporter": "python",
   "pygments_lexer": "ipython3",
   "version": "3.9.19"
  },
  "toc": {
   "base_numbering": 1,
   "nav_menu": {},
   "number_sections": true,
   "sideBar": true,
   "skip_h1_title": true,
   "title_cell": "Table of Contents",
   "title_sidebar": "Contents",
   "toc_cell": false,
   "toc_position": {
    "height": "calc(100% - 180px)",
    "left": "10px",
    "top": "150px",
    "width": "546.23px"
   },
   "toc_section_display": true,
   "toc_window_display": true
  }
 },
 "nbformat": 4,
 "nbformat_minor": 2
}
